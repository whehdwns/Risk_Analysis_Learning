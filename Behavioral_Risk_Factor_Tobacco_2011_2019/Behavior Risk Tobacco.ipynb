{
 "cells": [
  {
   "cell_type": "code",
   "execution_count": 1,
   "metadata": {},
   "outputs": [],
   "source": [
    "import pandas as pd\n",
    "import numpy as np\n",
    "import matplotlib.pyplot as plt\n",
    "import seaborn as sns\n",
    "import matplotlib as mpl\n",
    "import warnings\n",
    "warnings.filterwarnings('ignore')"
   ]
  },
  {
   "cell_type": "code",
   "execution_count": 2,
   "metadata": {},
   "outputs": [],
   "source": [
    "behavior_risk_tobacco_data_original = pd.read_csv('Behavioral_Risk_Factor_Data__Tobacco_Use__2011_to_present_.csv')"
   ]
  },
  {
   "cell_type": "code",
   "execution_count": 3,
   "metadata": {},
   "outputs": [],
   "source": [
    "behavior_risk_tobacco_data = behavior_risk_tobacco_data_original.copy()"
   ]
  },
  {
   "cell_type": "code",
   "execution_count": 4,
   "metadata": {},
   "outputs": [
    {
     "data": {
      "text/html": [
       "<div>\n",
       "<style scoped>\n",
       "    .dataframe tbody tr th:only-of-type {\n",
       "        vertical-align: middle;\n",
       "    }\n",
       "\n",
       "    .dataframe tbody tr th {\n",
       "        vertical-align: top;\n",
       "    }\n",
       "\n",
       "    .dataframe thead th {\n",
       "        text-align: right;\n",
       "    }\n",
       "</style>\n",
       "<table border=\"1\" class=\"dataframe\">\n",
       "  <thead>\n",
       "    <tr style=\"text-align: right;\">\n",
       "      <th></th>\n",
       "      <th>YEAR</th>\n",
       "      <th>LocationAbbr</th>\n",
       "      <th>LocationDesc</th>\n",
       "      <th>TopicType</th>\n",
       "      <th>TopicDesc</th>\n",
       "      <th>MeasureDesc</th>\n",
       "      <th>DataSource</th>\n",
       "      <th>Response</th>\n",
       "      <th>Data_Value_Unit</th>\n",
       "      <th>Data_Value_Type</th>\n",
       "      <th>...</th>\n",
       "      <th>GeoLocation</th>\n",
       "      <th>TopicTypeId</th>\n",
       "      <th>TopicId</th>\n",
       "      <th>MeasureId</th>\n",
       "      <th>StratificationID1</th>\n",
       "      <th>StratificationID2</th>\n",
       "      <th>StratificationID3</th>\n",
       "      <th>StratificationID4</th>\n",
       "      <th>SubMeasureID</th>\n",
       "      <th>DisplayOrder</th>\n",
       "    </tr>\n",
       "  </thead>\n",
       "  <tbody>\n",
       "    <tr>\n",
       "      <th>0</th>\n",
       "      <td>2018</td>\n",
       "      <td>AK</td>\n",
       "      <td>Alaska</td>\n",
       "      <td>Tobacco Use – Survey Data</td>\n",
       "      <td>Smokeless Tobacco Use (Adults)</td>\n",
       "      <td>Current Use</td>\n",
       "      <td>BRFSS</td>\n",
       "      <td>NaN</td>\n",
       "      <td>%</td>\n",
       "      <td>Percentage</td>\n",
       "      <td>...</td>\n",
       "      <td>(64.84507995700051, -147.72205903599973)</td>\n",
       "      <td>BEH</td>\n",
       "      <td>150BEH</td>\n",
       "      <td>177SCU</td>\n",
       "      <td>1GEN</td>\n",
       "      <td>8AGE</td>\n",
       "      <td>6RAC</td>\n",
       "      <td>6EDU</td>\n",
       "      <td>BRF70</td>\n",
       "      <td>70</td>\n",
       "    </tr>\n",
       "    <tr>\n",
       "      <th>1</th>\n",
       "      <td>2018</td>\n",
       "      <td>MD</td>\n",
       "      <td>Maryland</td>\n",
       "      <td>Tobacco Use – Survey Data</td>\n",
       "      <td>Cigarette Use (Adults)</td>\n",
       "      <td>Current Smoking</td>\n",
       "      <td>BRFSS</td>\n",
       "      <td>NaN</td>\n",
       "      <td>%</td>\n",
       "      <td>Percentage</td>\n",
       "      <td>...</td>\n",
       "      <td>(39.29058096400047, -76.60926011099963)</td>\n",
       "      <td>BEH</td>\n",
       "      <td>100BEH</td>\n",
       "      <td>110CSA</td>\n",
       "      <td>2GEN</td>\n",
       "      <td>8AGE</td>\n",
       "      <td>6RAC</td>\n",
       "      <td>6EDU</td>\n",
       "      <td>BRF21</td>\n",
       "      <td>21</td>\n",
       "    </tr>\n",
       "  </tbody>\n",
       "</table>\n",
       "<p>2 rows × 31 columns</p>\n",
       "</div>"
      ],
      "text/plain": [
       "   YEAR LocationAbbr LocationDesc                  TopicType  \\\n",
       "0  2018           AK       Alaska  Tobacco Use – Survey Data   \n",
       "1  2018           MD     Maryland  Tobacco Use – Survey Data   \n",
       "\n",
       "                        TopicDesc      MeasureDesc DataSource Response  \\\n",
       "0  Smokeless Tobacco Use (Adults)      Current Use      BRFSS      NaN   \n",
       "1          Cigarette Use (Adults)  Current Smoking      BRFSS      NaN   \n",
       "\n",
       "  Data_Value_Unit Data_Value_Type  ...  \\\n",
       "0               %      Percentage  ...   \n",
       "1               %      Percentage  ...   \n",
       "\n",
       "                                GeoLocation TopicTypeId TopicId  MeasureId  \\\n",
       "0  (64.84507995700051, -147.72205903599973)         BEH  150BEH     177SCU   \n",
       "1   (39.29058096400047, -76.60926011099963)         BEH  100BEH     110CSA   \n",
       "\n",
       "   StratificationID1  StratificationID2  StratificationID3 StratificationID4  \\\n",
       "0               1GEN               8AGE               6RAC              6EDU   \n",
       "1               2GEN               8AGE               6RAC              6EDU   \n",
       "\n",
       "  SubMeasureID DisplayOrder  \n",
       "0        BRF70           70  \n",
       "1        BRF21           21  \n",
       "\n",
       "[2 rows x 31 columns]"
      ]
     },
     "execution_count": 4,
     "metadata": {},
     "output_type": "execute_result"
    }
   ],
   "source": [
    "behavior_risk_tobacco_data.head(2)"
   ]
  },
  {
   "cell_type": "code",
   "execution_count": 5,
   "metadata": {
    "scrolled": false
   },
   "outputs": [
    {
     "data": {
      "text/plain": [
       "YEAR                              0\n",
       "LocationAbbr                      0\n",
       "LocationDesc                      0\n",
       "TopicType                         0\n",
       "TopicDesc                         0\n",
       "MeasureDesc                       0\n",
       "DataSource                        0\n",
       "Response                      28323\n",
       "Data_Value_Unit                   0\n",
       "Data_Value_Type                   0\n",
       "Data_Value                     2117\n",
       "Data_Value_Footnote_Symbol    41224\n",
       "Data_Value_Footnote           41224\n",
       "Data_Value_Std_Err             2195\n",
       "Low_Confidence_Limit           2195\n",
       "High_Confidence_Limit          2195\n",
       "Sample_Size                    2195\n",
       "Gender                            0\n",
       "Race                              0\n",
       "Age                               0\n",
       "Education                         0\n",
       "GeoLocation                      78\n",
       "TopicTypeId                       0\n",
       "TopicId                           0\n",
       "MeasureId                         0\n",
       "StratificationID1                 0\n",
       "StratificationID2                 0\n",
       "StratificationID3                 0\n",
       "StratificationID4                 0\n",
       "SubMeasureID                      0\n",
       "DisplayOrder                      0\n",
       "dtype: int64"
      ]
     },
     "execution_count": 5,
     "metadata": {},
     "output_type": "execute_result"
    }
   ],
   "source": [
    "behavior_risk_tobacco_data.isnull().sum()"
   ]
  },
  {
   "cell_type": "code",
   "execution_count": 6,
   "metadata": {},
   "outputs": [],
   "source": [
    "behavior_risk_tobacco_data['Data_Value'].fillna(behavior_risk_tobacco_data['Data_Value'].mode()[0], inplace=True)"
   ]
  },
  {
   "cell_type": "code",
   "execution_count": 7,
   "metadata": {},
   "outputs": [
    {
     "data": {
      "text/plain": [
       "Text(0.5, 1.0, 'Topic Description')"
      ]
     },
     "execution_count": 7,
     "metadata": {},
     "output_type": "execute_result"
    },
    {
     "data": {
      "image/png": "[encoded data removed]",
      "text/plain": [
       "<Figure size 720x504 with 1 Axes>"
      ]
     },
     "metadata": {},
     "output_type": "display_data"
    }
   ],
   "source": [
    "plt.subplots(figsize=(10, 7))\n",
    "TopicDesc_items = behavior_risk_tobacco_data['TopicDesc'].values\n",
    "topicdesc_unique, topicdesc_counts = np.unique(TopicDesc_items, return_counts=True)\n",
    "plt.pie(topicdesc_counts, labels = topicdesc_unique, autopct='%.0f%%')\n",
    "plt.title('Topic Description')"
   ]
  },
  {
   "cell_type": "code",
   "execution_count": 8,
   "metadata": {},
   "outputs": [
    {
     "name": "stdout",
     "output_type": "stream",
     "text": [
      "Data_Value_Footnote_Symbol\n",
      "# of NA values: 41224\n",
      "Total values : 43341\n",
      "---------\n",
      "Data_Value_Footnote\n",
      "# of NA values: 41224\n",
      "Total values : 43341\n"
     ]
    }
   ],
   "source": [
    "print('Data_Value_Footnote_Symbol')\n",
    "print('# of NA values: ' + str(behavior_risk_tobacco_data['Data_Value_Footnote_Symbol'].isnull().sum()))\n",
    "print('Total values : '+ str(behavior_risk_tobacco_data.shape[0]))\n",
    "print('---------')\n",
    "print('Data_Value_Footnote')\n",
    "print('# of NA values: ' + str(behavior_risk_tobacco_data['Data_Value_Footnote'].isnull().sum()))\n",
    "print('Total values : '+ str(behavior_risk_tobacco_data.shape[0]))"
   ]
  },
  {
   "cell_type": "code",
   "execution_count": 9,
   "metadata": {},
   "outputs": [
    {
     "data": {
      "text/html": [
       "<div>\n",
       "<style scoped>\n",
       "    .dataframe tbody tr th:only-of-type {\n",
       "        vertical-align: middle;\n",
       "    }\n",
       "\n",
       "    .dataframe tbody tr th {\n",
       "        vertical-align: top;\n",
       "    }\n",
       "\n",
       "    .dataframe thead th {\n",
       "        text-align: right;\n",
       "    }\n",
       "</style>\n",
       "<table border=\"1\" class=\"dataframe\">\n",
       "  <thead>\n",
       "    <tr style=\"text-align: right;\">\n",
       "      <th></th>\n",
       "      <th>LocationAbbr</th>\n",
       "      <th>LocationDesc</th>\n",
       "      <th>TopicType</th>\n",
       "      <th>TopicDesc</th>\n",
       "      <th>MeasureDesc</th>\n",
       "      <th>DataSource</th>\n",
       "      <th>Response</th>\n",
       "      <th>Data_Value</th>\n",
       "      <th>Data_Value_Footnote_Symbol</th>\n",
       "      <th>Data_Value_Footnote</th>\n",
       "      <th>Data_Value_Std_Err</th>\n",
       "      <th>Low_Confidence_Limit</th>\n",
       "      <th>High_Confidence_Limit</th>\n",
       "      <th>Sample_Size</th>\n",
       "      <th>Gender</th>\n",
       "      <th>Race</th>\n",
       "      <th>Age</th>\n",
       "      <th>Education</th>\n",
       "      <th>GeoLocation</th>\n",
       "    </tr>\n",
       "  </thead>\n",
       "  <tbody>\n",
       "    <tr>\n",
       "      <th>0</th>\n",
       "      <td>AK</td>\n",
       "      <td>Alaska</td>\n",
       "      <td>Tobacco Use – Survey Data</td>\n",
       "      <td>Smokeless Tobacco Use (Adults)</td>\n",
       "      <td>Current Use</td>\n",
       "      <td>BRFSS</td>\n",
       "      <td>NaN</td>\n",
       "      <td>5.8</td>\n",
       "      <td>NaN</td>\n",
       "      <td>NaN</td>\n",
       "      <td>0.7</td>\n",
       "      <td>4.5</td>\n",
       "      <td>7.1</td>\n",
       "      <td>2711.0</td>\n",
       "      <td>Overall</td>\n",
       "      <td>All Races</td>\n",
       "      <td>All Ages</td>\n",
       "      <td>All Grades</td>\n",
       "      <td>(64.84507995700051, -147.72205903599973)</td>\n",
       "    </tr>\n",
       "    <tr>\n",
       "      <th>1</th>\n",
       "      <td>MD</td>\n",
       "      <td>Maryland</td>\n",
       "      <td>Tobacco Use – Survey Data</td>\n",
       "      <td>Cigarette Use (Adults)</td>\n",
       "      <td>Current Smoking</td>\n",
       "      <td>BRFSS</td>\n",
       "      <td>NaN</td>\n",
       "      <td>14.0</td>\n",
       "      <td>NaN</td>\n",
       "      <td>NaN</td>\n",
       "      <td>0.7</td>\n",
       "      <td>12.7</td>\n",
       "      <td>15.3</td>\n",
       "      <td>7171.0</td>\n",
       "      <td>Male</td>\n",
       "      <td>All Races</td>\n",
       "      <td>All Ages</td>\n",
       "      <td>All Grades</td>\n",
       "      <td>(39.29058096400047, -76.60926011099963)</td>\n",
       "    </tr>\n",
       "  </tbody>\n",
       "</table>\n",
       "</div>"
      ],
      "text/plain": [
       "  LocationAbbr LocationDesc                  TopicType  \\\n",
       "0           AK       Alaska  Tobacco Use – Survey Data   \n",
       "1           MD     Maryland  Tobacco Use – Survey Data   \n",
       "\n",
       "                        TopicDesc      MeasureDesc DataSource Response  \\\n",
       "0  Smokeless Tobacco Use (Adults)      Current Use      BRFSS      NaN   \n",
       "1          Cigarette Use (Adults)  Current Smoking      BRFSS      NaN   \n",
       "\n",
       "   Data_Value Data_Value_Footnote_Symbol Data_Value_Footnote  \\\n",
       "0         5.8                        NaN                 NaN   \n",
       "1        14.0                        NaN                 NaN   \n",
       "\n",
       "   Data_Value_Std_Err  Low_Confidence_Limit  High_Confidence_Limit  \\\n",
       "0                 0.7                   4.5                    7.1   \n",
       "1                 0.7                  12.7                   15.3   \n",
       "\n",
       "   Sample_Size   Gender       Race       Age   Education  \\\n",
       "0       2711.0  Overall  All Races  All Ages  All Grades   \n",
       "1       7171.0     Male  All Races  All Ages  All Grades   \n",
       "\n",
       "                                GeoLocation  \n",
       "0  (64.84507995700051, -147.72205903599973)  \n",
       "1   (39.29058096400047, -76.60926011099963)  "
      ]
     },
     "execution_count": 9,
     "metadata": {},
     "output_type": "execute_result"
    }
   ],
   "source": [
    "behavior_risk_tobacco_data1 = behavior_risk_tobacco_data.drop(['Data_Value_Unit', 'Data_Value_Type'],axis=1)\n",
    "behavior_risk_tobacco_data1[behavior_risk_tobacco_data1.columns[1:20]].head(2)"
   ]
  },
  {
   "cell_type": "code",
   "execution_count": 10,
   "metadata": {},
   "outputs": [
    {
     "data": {
      "text/plain": [
       "Text(0.5, 1.0, 'Measure Description')"
      ]
     },
     "execution_count": 10,
     "metadata": {},
     "output_type": "execute_result"
    },
    {
     "data": {
      "image/png": "[encoded data removed]",
      "text/plain": [
       "<Figure size 720x504 with 1 Axes>"
      ]
     },
     "metadata": {},
     "output_type": "display_data"
    }
   ],
   "source": [
    "plt.subplots(figsize=(10, 7))\n",
    "MeasureDesc_items = behavior_risk_tobacco_data['MeasureDesc'].values\n",
    "MeasureDesc_unique, MeasureDesc_counts = np.unique(MeasureDesc_items, return_counts=True)\n",
    "plt.pie(MeasureDesc_counts, labels = MeasureDesc_unique, autopct='%.0f%%')\n",
    "plt.title('Measure Description')"
   ]
  },
  {
   "cell_type": "code",
   "execution_count": 11,
   "metadata": {},
   "outputs": [
    {
     "data": {
      "text/html": [
       "<div>\n",
       "<style scoped>\n",
       "    .dataframe tbody tr th:only-of-type {\n",
       "        vertical-align: middle;\n",
       "    }\n",
       "\n",
       "    .dataframe tbody tr th {\n",
       "        vertical-align: top;\n",
       "    }\n",
       "\n",
       "    .dataframe thead th {\n",
       "        text-align: right;\n",
       "    }\n",
       "</style>\n",
       "<table border=\"1\" class=\"dataframe\">\n",
       "  <thead>\n",
       "    <tr style=\"text-align: right;\">\n",
       "      <th></th>\n",
       "      <th>LocationAbbr</th>\n",
       "      <th>LocationDesc</th>\n",
       "      <th>TopicType</th>\n",
       "      <th>TopicDesc</th>\n",
       "      <th>MeasureDesc</th>\n",
       "      <th>DataSource</th>\n",
       "      <th>Response</th>\n",
       "      <th>Data_Value</th>\n",
       "      <th>Data_Value_Footnote_Symbol</th>\n",
       "      <th>Data_Value_Footnote</th>\n",
       "      <th>Data_Value_Std_Err</th>\n",
       "      <th>Low_Confidence_Limit</th>\n",
       "      <th>High_Confidence_Limit</th>\n",
       "      <th>Sample_Size</th>\n",
       "      <th>Gender</th>\n",
       "      <th>Race</th>\n",
       "      <th>Age</th>\n",
       "      <th>Education</th>\n",
       "      <th>GeoLocation</th>\n",
       "    </tr>\n",
       "  </thead>\n",
       "  <tbody>\n",
       "    <tr>\n",
       "      <th>0</th>\n",
       "      <td>AK</td>\n",
       "      <td>Alaska</td>\n",
       "      <td>Tobacco Use – Survey Data</td>\n",
       "      <td>Smokeless Tobacco Use (Adults)</td>\n",
       "      <td>Current Use</td>\n",
       "      <td>BRFSS</td>\n",
       "      <td>NaN</td>\n",
       "      <td>5.8</td>\n",
       "      <td>NaN</td>\n",
       "      <td>NaN</td>\n",
       "      <td>0.7</td>\n",
       "      <td>4.5</td>\n",
       "      <td>7.1</td>\n",
       "      <td>2711.0</td>\n",
       "      <td>Overall</td>\n",
       "      <td>All Races</td>\n",
       "      <td>All Ages</td>\n",
       "      <td>All Grades</td>\n",
       "      <td>(64.84507995700051, -147.72205903599973)</td>\n",
       "    </tr>\n",
       "    <tr>\n",
       "      <th>1</th>\n",
       "      <td>MD</td>\n",
       "      <td>Maryland</td>\n",
       "      <td>Tobacco Use – Survey Data</td>\n",
       "      <td>Cigarette Use (Adults)</td>\n",
       "      <td>Current Smoking</td>\n",
       "      <td>BRFSS</td>\n",
       "      <td>NaN</td>\n",
       "      <td>14.0</td>\n",
       "      <td>NaN</td>\n",
       "      <td>NaN</td>\n",
       "      <td>0.7</td>\n",
       "      <td>12.7</td>\n",
       "      <td>15.3</td>\n",
       "      <td>7171.0</td>\n",
       "      <td>Male</td>\n",
       "      <td>All Races</td>\n",
       "      <td>All Ages</td>\n",
       "      <td>All Grades</td>\n",
       "      <td>(39.29058096400047, -76.60926011099963)</td>\n",
       "    </tr>\n",
       "  </tbody>\n",
       "</table>\n",
       "</div>"
      ],
      "text/plain": [
       "  LocationAbbr LocationDesc                  TopicType  \\\n",
       "0           AK       Alaska  Tobacco Use – Survey Data   \n",
       "1           MD     Maryland  Tobacco Use – Survey Data   \n",
       "\n",
       "                        TopicDesc      MeasureDesc DataSource Response  \\\n",
       "0  Smokeless Tobacco Use (Adults)      Current Use      BRFSS      NaN   \n",
       "1          Cigarette Use (Adults)  Current Smoking      BRFSS      NaN   \n",
       "\n",
       "   Data_Value Data_Value_Footnote_Symbol Data_Value_Footnote  \\\n",
       "0         5.8                        NaN                 NaN   \n",
       "1        14.0                        NaN                 NaN   \n",
       "\n",
       "   Data_Value_Std_Err  Low_Confidence_Limit  High_Confidence_Limit  \\\n",
       "0                 0.7                   4.5                    7.1   \n",
       "1                 0.7                  12.7                   15.3   \n",
       "\n",
       "   Sample_Size   Gender       Race       Age   Education  \\\n",
       "0       2711.0  Overall  All Races  All Ages  All Grades   \n",
       "1       7171.0     Male  All Races  All Ages  All Grades   \n",
       "\n",
       "                                GeoLocation  \n",
       "0  (64.84507995700051, -147.72205903599973)  \n",
       "1   (39.29058096400047, -76.60926011099963)  "
      ]
     },
     "execution_count": 11,
     "metadata": {},
     "output_type": "execute_result"
    }
   ],
   "source": [
    "behavior_risk_tobacco_data1[behavior_risk_tobacco_data1.columns[1:20]].head(2)"
   ]
  },
  {
   "cell_type": "code",
   "execution_count": 12,
   "metadata": {},
   "outputs": [
    {
     "data": {
      "text/plain": [
       "array(['Male', 'Male', 'Male', ..., 'Male', 'Female', 'Male'],\n",
       "      dtype=object)"
      ]
     },
     "execution_count": 12,
     "metadata": {},
     "output_type": "execute_result"
    }
   ],
   "source": [
    "behavior_risk_tobacco_data1[behavior_risk_tobacco_data1[\"Gender\"]!='Overall']['Gender'].values"
   ]
  },
  {
   "cell_type": "code",
   "execution_count": 13,
   "metadata": {},
   "outputs": [
    {
     "data": {
      "image/png": "[encoded data removed]",
      "text/plain": [
       "<Figure size 936x576 with 4 Axes>"
      ]
     },
     "metadata": {},
     "output_type": "display_data"
    }
   ],
   "source": [
    "fig, axis = plt.subplots(2,2, figsize=(13, 8))\n",
    "\n",
    "Gender_items = behavior_risk_tobacco_data1[behavior_risk_tobacco_data1[\"Gender\"]!='Overall']['Gender'].values\n",
    "#behavior_risk_tobacco_data1[\"Gender\"].values\n",
    "Gender_unique, Gender_counts = np.unique(Gender_items, return_counts=True)\n",
    "axis[0, 0].pie(Gender_counts, labels = Gender_unique, autopct='%.0f%%')\n",
    "axis[0, 0].title.set_text('Gender')\n",
    "\n",
    "Race_items = behavior_risk_tobacco_data1[behavior_risk_tobacco_data1[\"Race\"]!='All Races']['Race'].values\n",
    "Race_unique, Race_counts = np.unique(Race_items, return_counts=True)\n",
    "axis[0, 1].pie(Race_counts, labels = Race_unique, autopct='%.0f%%')\n",
    "axis[0, 1].title.set_text('Race')\n",
    "\n",
    "Age_items = behavior_risk_tobacco_data1[behavior_risk_tobacco_data1[\"Age\"]!='All Ages']['Age'].values\n",
    "Age_unique, Age_counts = np.unique(Age_items, return_counts=True)\n",
    "axis[1, 0].pie(Age_counts, labels = Age_unique, autopct='%.0f%%')\n",
    "axis[1, 0].title.set_text('Age')\n",
    "\n",
    "Education_items = behavior_risk_tobacco_data1[behavior_risk_tobacco_data1[\"Education\"]!='All Grades']['Education'].values\n",
    "Education_unique, Education_counts = np.unique(Education_items, return_counts=True)\n",
    "axis[1, 1].pie(Education_counts, labels = Education_unique, autopct='%.0f%%')\n",
    "axis[1, 1].title.set_text('Education')\n",
    "\n",
    "plt.show()"
   ]
  },
  {
   "cell_type": "code",
   "execution_count": 14,
   "metadata": {},
   "outputs": [
    {
     "data": {
      "text/plain": [
       "Index(['YEAR', 'LocationAbbr', 'LocationDesc', 'TopicType', 'TopicDesc',\n",
       "       'MeasureDesc', 'DataSource', 'Response', 'Data_Value',\n",
       "       'Data_Value_Footnote_Symbol', 'Data_Value_Footnote',\n",
       "       'Data_Value_Std_Err', 'Low_Confidence_Limit', 'High_Confidence_Limit',\n",
       "       'Sample_Size', 'Gender', 'Race', 'Age', 'Education', 'GeoLocation',\n",
       "       'TopicTypeId', 'TopicId', 'MeasureId', 'StratificationID1',\n",
       "       'StratificationID2', 'StratificationID3', 'StratificationID4',\n",
       "       'SubMeasureID', 'DisplayOrder'],\n",
       "      dtype='object')"
      ]
     },
     "execution_count": 14,
     "metadata": {},
     "output_type": "execute_result"
    }
   ],
   "source": [
    "behavior_risk_tobacco_data1.columns"
   ]
  },
  {
   "cell_type": "code",
   "execution_count": 15,
   "metadata": {
    "scrolled": false
   },
   "outputs": [
    {
     "data": {
      "text/html": [
       "<div>\n",
       "<style scoped>\n",
       "    .dataframe tbody tr th:only-of-type {\n",
       "        vertical-align: middle;\n",
       "    }\n",
       "\n",
       "    .dataframe tbody tr th {\n",
       "        vertical-align: top;\n",
       "    }\n",
       "\n",
       "    .dataframe thead th {\n",
       "        text-align: right;\n",
       "    }\n",
       "</style>\n",
       "<table border=\"1\" class=\"dataframe\">\n",
       "  <thead>\n",
       "    <tr style=\"text-align: right;\">\n",
       "      <th></th>\n",
       "      <th>YEAR</th>\n",
       "      <th>LocationAbbr</th>\n",
       "      <th>LocationDesc</th>\n",
       "      <th>Data_Value</th>\n",
       "      <th>Data_Value_Std_Err</th>\n",
       "      <th>Low_Confidence_Limit</th>\n",
       "      <th>High_Confidence_Limit</th>\n",
       "      <th>Sample_Size</th>\n",
       "      <th>GeoLocation</th>\n",
       "    </tr>\n",
       "  </thead>\n",
       "  <tbody>\n",
       "    <tr>\n",
       "      <th>0</th>\n",
       "      <td>2018</td>\n",
       "      <td>AK</td>\n",
       "      <td>Alaska</td>\n",
       "      <td>5.8</td>\n",
       "      <td>0.7</td>\n",
       "      <td>4.5</td>\n",
       "      <td>7.1</td>\n",
       "      <td>2711.0</td>\n",
       "      <td>(64.84507995700051, -147.72205903599973)</td>\n",
       "    </tr>\n",
       "    <tr>\n",
       "      <th>1</th>\n",
       "      <td>2018</td>\n",
       "      <td>MD</td>\n",
       "      <td>Maryland</td>\n",
       "      <td>14.0</td>\n",
       "      <td>0.7</td>\n",
       "      <td>12.7</td>\n",
       "      <td>15.3</td>\n",
       "      <td>7171.0</td>\n",
       "      <td>(39.29058096400047, -76.60926011099963)</td>\n",
       "    </tr>\n",
       "  </tbody>\n",
       "</table>\n",
       "</div>"
      ],
      "text/plain": [
       "   YEAR LocationAbbr LocationDesc  Data_Value  Data_Value_Std_Err  \\\n",
       "0  2018           AK       Alaska         5.8                 0.7   \n",
       "1  2018           MD     Maryland        14.0                 0.7   \n",
       "\n",
       "   Low_Confidence_Limit  High_Confidence_Limit  Sample_Size  \\\n",
       "0                   4.5                    7.1       2711.0   \n",
       "1                  12.7                   15.3       7171.0   \n",
       "\n",
       "                                GeoLocation  \n",
       "0  (64.84507995700051, -147.72205903599973)  \n",
       "1   (39.29058096400047, -76.60926011099963)  "
      ]
     },
     "execution_count": 15,
     "metadata": {},
     "output_type": "execute_result"
    }
   ],
   "source": [
    "behavior_risk_tobacco_data2 = behavior_risk_tobacco_data1[['YEAR', 'LocationAbbr', 'LocationDesc', 'Data_Value',\n",
    "                                                           'Data_Value_Std_Err','Low_Confidence_Limit' ,'High_Confidence_Limit', \n",
    "                                                           'Sample_Size', 'GeoLocation']]\n",
    "behavior_risk_tobacco_data2.head(2)"
   ]
  },
  {
   "cell_type": "code",
   "execution_count": 16,
   "metadata": {},
   "outputs": [
    {
     "data": {
      "text/html": [
       "<div>\n",
       "<style scoped>\n",
       "    .dataframe tbody tr th:only-of-type {\n",
       "        vertical-align: middle;\n",
       "    }\n",
       "\n",
       "    .dataframe tbody tr th {\n",
       "        vertical-align: top;\n",
       "    }\n",
       "\n",
       "    .dataframe thead th {\n",
       "        text-align: right;\n",
       "    }\n",
       "</style>\n",
       "<table border=\"1\" class=\"dataframe\">\n",
       "  <thead>\n",
       "    <tr style=\"text-align: right;\">\n",
       "      <th></th>\n",
       "      <th>YEAR</th>\n",
       "      <th>LocationAbbr</th>\n",
       "      <th>LocationDesc</th>\n",
       "      <th>Data_Value</th>\n",
       "      <th>Data_Value_Std_Err</th>\n",
       "      <th>Low_Confidence_Limit</th>\n",
       "      <th>High_Confidence_Limit</th>\n",
       "      <th>Sample_Size</th>\n",
       "      <th>GeoLocation</th>\n",
       "    </tr>\n",
       "  </thead>\n",
       "  <tbody>\n",
       "    <tr>\n",
       "      <th>39232</th>\n",
       "      <td>2019</td>\n",
       "      <td>WY</td>\n",
       "      <td>Wyoming</td>\n",
       "      <td>29.3</td>\n",
       "      <td>3.8</td>\n",
       "      <td>21.9</td>\n",
       "      <td>36.7</td>\n",
       "      <td>252.0</td>\n",
       "      <td>(43.23554134300048, -108.10983035299967)</td>\n",
       "    </tr>\n",
       "    <tr>\n",
       "      <th>39342</th>\n",
       "      <td>2019</td>\n",
       "      <td>WY</td>\n",
       "      <td>Wyoming</td>\n",
       "      <td>6.4</td>\n",
       "      <td>0.7</td>\n",
       "      <td>5.1</td>\n",
       "      <td>7.7</td>\n",
       "      <td>3090.0</td>\n",
       "      <td>(43.23554134300048, -108.10983035299967)</td>\n",
       "    </tr>\n",
       "  </tbody>\n",
       "</table>\n",
       "</div>"
      ],
      "text/plain": [
       "       YEAR LocationAbbr LocationDesc  Data_Value  Data_Value_Std_Err  \\\n",
       "39232  2019           WY      Wyoming        29.3                 3.8   \n",
       "39342  2019           WY      Wyoming         6.4                 0.7   \n",
       "\n",
       "       Low_Confidence_Limit  High_Confidence_Limit  Sample_Size  \\\n",
       "39232                  21.9                   36.7        252.0   \n",
       "39342                   5.1                    7.7       3090.0   \n",
       "\n",
       "                                    GeoLocation  \n",
       "39232  (43.23554134300048, -108.10983035299967)  \n",
       "39342  (43.23554134300048, -108.10983035299967)  "
      ]
     },
     "execution_count": 16,
     "metadata": {},
     "output_type": "execute_result"
    }
   ],
   "source": [
    "behavior_risk_tobacco_data2.sort_values(by=['YEAR', 'LocationAbbr'], ascending=False).head(2)"
   ]
  },
  {
   "cell_type": "code",
   "execution_count": 17,
   "metadata": {},
   "outputs": [
    {
     "data": {
      "text/html": [
       "<div>\n",
       "<style scoped>\n",
       "    .dataframe tbody tr th:only-of-type {\n",
       "        vertical-align: middle;\n",
       "    }\n",
       "\n",
       "    .dataframe tbody tr th {\n",
       "        vertical-align: top;\n",
       "    }\n",
       "\n",
       "    .dataframe thead th {\n",
       "        text-align: right;\n",
       "    }\n",
       "</style>\n",
       "<table border=\"1\" class=\"dataframe\">\n",
       "  <thead>\n",
       "    <tr style=\"text-align: right;\">\n",
       "      <th></th>\n",
       "      <th>YEAR</th>\n",
       "      <th>LocationAbbr</th>\n",
       "      <th>LocationDesc</th>\n",
       "      <th>Data_Value</th>\n",
       "      <th>Data_Value_Std_Err</th>\n",
       "      <th>Low_Confidence_Limit</th>\n",
       "      <th>High_Confidence_Limit</th>\n",
       "      <th>Sample_Size</th>\n",
       "      <th>GeoLocation</th>\n",
       "    </tr>\n",
       "  </thead>\n",
       "  <tbody>\n",
       "    <tr>\n",
       "      <th>39232</th>\n",
       "      <td>2019</td>\n",
       "      <td>WY</td>\n",
       "      <td>Wyoming</td>\n",
       "      <td>29.3</td>\n",
       "      <td>3.8</td>\n",
       "      <td>21.9</td>\n",
       "      <td>36.7</td>\n",
       "      <td>252.0</td>\n",
       "      <td>(43.23554134300048, -108.10983035299967)</td>\n",
       "    </tr>\n",
       "    <tr>\n",
       "      <th>39342</th>\n",
       "      <td>2019</td>\n",
       "      <td>WY</td>\n",
       "      <td>Wyoming</td>\n",
       "      <td>6.4</td>\n",
       "      <td>0.7</td>\n",
       "      <td>5.1</td>\n",
       "      <td>7.7</td>\n",
       "      <td>3090.0</td>\n",
       "      <td>(43.23554134300048, -108.10983035299967)</td>\n",
       "    </tr>\n",
       "  </tbody>\n",
       "</table>\n",
       "</div>"
      ],
      "text/plain": [
       "       YEAR LocationAbbr LocationDesc  Data_Value  Data_Value_Std_Err  \\\n",
       "39232  2019           WY      Wyoming        29.3                 3.8   \n",
       "39342  2019           WY      Wyoming         6.4                 0.7   \n",
       "\n",
       "       Low_Confidence_Limit  High_Confidence_Limit  Sample_Size  \\\n",
       "39232                  21.9                   36.7        252.0   \n",
       "39342                   5.1                    7.7       3090.0   \n",
       "\n",
       "                                    GeoLocation  \n",
       "39232  (43.23554134300048, -108.10983035299967)  \n",
       "39342  (43.23554134300048, -108.10983035299967)  "
      ]
     },
     "execution_count": 17,
     "metadata": {},
     "output_type": "execute_result"
    }
   ],
   "source": [
    "behavior_risk_2019 = behavior_risk_tobacco_data2[behavior_risk_tobacco_data2['YEAR']=='2019']\n",
    "behavior_risk_2019[behavior_risk_2019['LocationAbbr']=='WY'].head(2)"
   ]
  },
  {
   "cell_type": "code",
   "execution_count": 18,
   "metadata": {},
   "outputs": [],
   "source": [
    "behavior_risk_tobacco_year_data1 = behavior_risk_tobacco_data1[behavior_risk_tobacco_data1['YEAR'].isin(['2011', '2012', '2013','2014', '2015',\n",
    "                                                                                                      '2016', '2017', '2018', '2019'])]"
   ]
  },
  {
   "cell_type": "code",
   "execution_count": 19,
   "metadata": {},
   "outputs": [],
   "source": [
    "behavior_risk_tobacco_year_sorted_data = behavior_risk_tobacco_year_data1.sort_values(by=['YEAR'], ascending=True)"
   ]
  },
  {
   "cell_type": "code",
   "execution_count": 20,
   "metadata": {},
   "outputs": [
    {
     "data": {
      "text/plain": [
       "<matplotlib.legend.Legend at 0x7f0b61f2c550>"
      ]
     },
     "execution_count": 20,
     "metadata": {},
     "output_type": "execute_result"
    },
    {
     "data": {
      "image/png": "[encoded data removed]",
      "text/plain": [
       "<Figure size 936x720 with 1 Axes>"
      ]
     },
     "metadata": {
      "needs_background": "light"
     },
     "output_type": "display_data"
    }
   ],
   "source": [
    "plt.subplots(figsize=(13, 10))\n",
    "sns.boxenplot(x=\"YEAR\", y=\"Data_Value\",\n",
    "                     hue=\"TopicDesc\",\n",
    "                     data=behavior_risk_tobacco_year_sorted_data)\n",
    "plt.title('Tobacco usage 2011~2019')\n",
    "plt.legend(bbox_to_anchor =(1, 1))"
   ]
  },
  {
   "cell_type": "code",
   "execution_count": 21,
   "metadata": {},
   "outputs": [
    {
     "data": {
      "text/html": [
       "<div>\n",
       "<style scoped>\n",
       "    .dataframe tbody tr th:only-of-type {\n",
       "        vertical-align: middle;\n",
       "    }\n",
       "\n",
       "    .dataframe tbody tr th {\n",
       "        vertical-align: top;\n",
       "    }\n",
       "\n",
       "    .dataframe thead th {\n",
       "        text-align: right;\n",
       "    }\n",
       "</style>\n",
       "<table border=\"1\" class=\"dataframe\">\n",
       "  <thead>\n",
       "    <tr style=\"text-align: right;\">\n",
       "      <th></th>\n",
       "      <th>YEAR</th>\n",
       "      <th>Cigarette Use (Adults)</th>\n",
       "      <th>Smokeless Tobacco Use (Adults)</th>\n",
       "      <th>Cessation (Adults)</th>\n",
       "      <th>E-Cigarette Use (Adults)</th>\n",
       "    </tr>\n",
       "  </thead>\n",
       "  <tbody>\n",
       "    <tr>\n",
       "      <th>0</th>\n",
       "      <td>2011</td>\n",
       "      <td>24.9</td>\n",
       "      <td>4.9</td>\n",
       "      <td>53.00</td>\n",
       "      <td>NA</td>\n",
       "    </tr>\n",
       "    <tr>\n",
       "      <th>1</th>\n",
       "      <td>2012</td>\n",
       "      <td>23.9</td>\n",
       "      <td>4.5</td>\n",
       "      <td>55.00</td>\n",
       "      <td>NA</td>\n",
       "    </tr>\n",
       "    <tr>\n",
       "      <th>2</th>\n",
       "      <td>2013</td>\n",
       "      <td>23.5</td>\n",
       "      <td>4.7</td>\n",
       "      <td>54.30</td>\n",
       "      <td>NA</td>\n",
       "    </tr>\n",
       "    <tr>\n",
       "      <th>3</th>\n",
       "      <td>2014</td>\n",
       "      <td>23.0</td>\n",
       "      <td>4.5</td>\n",
       "      <td>55.55</td>\n",
       "      <td>NA</td>\n",
       "    </tr>\n",
       "    <tr>\n",
       "      <th>4</th>\n",
       "      <td>2015</td>\n",
       "      <td>22.2</td>\n",
       "      <td>4.4</td>\n",
       "      <td>55.00</td>\n",
       "      <td>NA</td>\n",
       "    </tr>\n",
       "    <tr>\n",
       "      <th>5</th>\n",
       "      <td>2016</td>\n",
       "      <td>22.3</td>\n",
       "      <td>4.5</td>\n",
       "      <td>54.10</td>\n",
       "      <td>NA</td>\n",
       "    </tr>\n",
       "    <tr>\n",
       "      <th>6</th>\n",
       "      <td>2017</td>\n",
       "      <td>22.0</td>\n",
       "      <td>4.6</td>\n",
       "      <td>54.25</td>\n",
       "      <td>5.7</td>\n",
       "    </tr>\n",
       "    <tr>\n",
       "      <th>7</th>\n",
       "      <td>2018</td>\n",
       "      <td>21.3</td>\n",
       "      <td>4.5</td>\n",
       "      <td>54.75</td>\n",
       "      <td>5.7</td>\n",
       "    </tr>\n",
       "    <tr>\n",
       "      <th>8</th>\n",
       "      <td>2019</td>\n",
       "      <td>20.7</td>\n",
       "      <td>4.4</td>\n",
       "      <td>54.30</td>\n",
       "      <td>6.8</td>\n",
       "    </tr>\n",
       "  </tbody>\n",
       "</table>\n",
       "</div>"
      ],
      "text/plain": [
       "   YEAR  Cigarette Use (Adults)  Smokeless Tobacco Use (Adults)  \\\n",
       "0  2011                    24.9                             4.9   \n",
       "1  2012                    23.9                             4.5   \n",
       "2  2013                    23.5                             4.7   \n",
       "3  2014                    23.0                             4.5   \n",
       "4  2015                    22.2                             4.4   \n",
       "5  2016                    22.3                             4.5   \n",
       "6  2017                    22.0                             4.6   \n",
       "7  2018                    21.3                             4.5   \n",
       "8  2019                    20.7                             4.4   \n",
       "\n",
       "   Cessation (Adults) E-Cigarette Use (Adults)  \n",
       "0               53.00                       NA  \n",
       "1               55.00                       NA  \n",
       "2               54.30                       NA  \n",
       "3               55.55                       NA  \n",
       "4               55.00                       NA  \n",
       "5               54.10                       NA  \n",
       "6               54.25                      5.7  \n",
       "7               54.75                      5.7  \n",
       "8               54.30                      6.8  "
      ]
     },
     "execution_count": 21,
     "metadata": {},
     "output_type": "execute_result"
    }
   ],
   "source": [
    "medians_cigartte = behavior_risk_tobacco_year_sorted_data[behavior_risk_tobacco_year_sorted_data['TopicDesc']=='Cigarette Use (Adults)'].groupby(['YEAR'])['Data_Value'].median()\n",
    "medians_tobacco = behavior_risk_tobacco_year_sorted_data[behavior_risk_tobacco_year_sorted_data['TopicDesc']=='Smokeless Tobacco Use (Adults)'].groupby(['YEAR'])['Data_Value'].median()\n",
    "medians_cessation = behavior_risk_tobacco_year_sorted_data[behavior_risk_tobacco_year_sorted_data['TopicDesc']=='Cessation (Adults)'].groupby(['YEAR'])['Data_Value'].median()\n",
    "medians_ecigarette = behavior_risk_tobacco_year_sorted_data[behavior_risk_tobacco_year_sorted_data['TopicDesc']=='E-Cigarette Use (Adults)'].groupby(['YEAR'])['Data_Value'].median()\n",
    "empty_ecigartte = ['NA' for i in range(6)]\n",
    "medians_ecigarette_new = [*empty_ecigartte, *medians_ecigarette.values]\n",
    "median_by_topicdesc= {'YEAR': medians_cigartte.keys(),\n",
    "                    'Cigarette Use (Adults)': medians_cigartte.values,\n",
    "                    'Smokeless Tobacco Use (Adults)':medians_tobacco.values,\n",
    "                    'Cessation (Adults)': medians_cessation.values,\n",
    "                     'E-Cigarette Use (Adults)':medians_ecigarette_new}\n",
    "median_by_topicdesc_df= pd.DataFrame(median_by_topicdesc)\n",
    "median_by_topicdesc_df"
   ]
  },
  {
   "cell_type": "code",
   "execution_count": 22,
   "metadata": {},
   "outputs": [
    {
     "data": {
      "text/html": [
       "<div>\n",
       "<style scoped>\n",
       "    .dataframe tbody tr th:only-of-type {\n",
       "        vertical-align: middle;\n",
       "    }\n",
       "\n",
       "    .dataframe tbody tr th {\n",
       "        vertical-align: top;\n",
       "    }\n",
       "\n",
       "    .dataframe thead th {\n",
       "        text-align: right;\n",
       "    }\n",
       "</style>\n",
       "<table border=\"1\" class=\"dataframe\">\n",
       "  <thead>\n",
       "    <tr style=\"text-align: right;\">\n",
       "      <th></th>\n",
       "      <th></th>\n",
       "      <th></th>\n",
       "      <th>Data_Value</th>\n",
       "    </tr>\n",
       "    <tr>\n",
       "      <th>YEAR</th>\n",
       "      <th>TopicDesc</th>\n",
       "      <th>Age</th>\n",
       "      <th></th>\n",
       "    </tr>\n",
       "  </thead>\n",
       "  <tbody>\n",
       "    <tr>\n",
       "      <th rowspan=\"5\" valign=\"top\">2011</th>\n",
       "      <th>Cessation (Adults)</th>\n",
       "      <th>All Ages</th>\n",
       "      <td>53.0</td>\n",
       "    </tr>\n",
       "    <tr>\n",
       "      <th rowspan=\"4\" valign=\"top\">Cigarette Use (Adults)</th>\n",
       "      <th>18 to 24 Years</th>\n",
       "      <td>23.9</td>\n",
       "    </tr>\n",
       "    <tr>\n",
       "      <th>18 to 44 Years</th>\n",
       "      <td>22.5</td>\n",
       "    </tr>\n",
       "    <tr>\n",
       "      <th>25 to 44 Years</th>\n",
       "      <td>26.2</td>\n",
       "    </tr>\n",
       "    <tr>\n",
       "      <th>45 to 64 Years</th>\n",
       "      <td>21.5</td>\n",
       "    </tr>\n",
       "    <tr>\n",
       "      <th>...</th>\n",
       "      <th>...</th>\n",
       "      <th>...</th>\n",
       "      <td>...</td>\n",
       "    </tr>\n",
       "    <tr>\n",
       "      <th rowspan=\"5\" valign=\"top\">2019</th>\n",
       "      <th rowspan=\"5\" valign=\"top\">Smokeless Tobacco Use (Adults)</th>\n",
       "      <th>45 to 64 Years</th>\n",
       "      <td>3.8</td>\n",
       "    </tr>\n",
       "    <tr>\n",
       "      <th>65 Years and Older</th>\n",
       "      <td>1.9</td>\n",
       "    </tr>\n",
       "    <tr>\n",
       "      <th>Age 20 and Older</th>\n",
       "      <td>4.3</td>\n",
       "    </tr>\n",
       "    <tr>\n",
       "      <th>Age 25 and Older</th>\n",
       "      <td>4.4</td>\n",
       "    </tr>\n",
       "    <tr>\n",
       "      <th>All Ages</th>\n",
       "      <td>5.5</td>\n",
       "    </tr>\n",
       "  </tbody>\n",
       "</table>\n",
       "<p>177 rows × 1 columns</p>\n",
       "</div>"
      ],
      "text/plain": [
       "                                                        Data_Value\n",
       "YEAR TopicDesc                      Age                           \n",
       "2011 Cessation (Adults)             All Ages                  53.0\n",
       "     Cigarette Use (Adults)         18 to 24 Years            23.9\n",
       "                                    18 to 44 Years            22.5\n",
       "                                    25 to 44 Years            26.2\n",
       "                                    45 to 64 Years            21.5\n",
       "...                                                            ...\n",
       "2019 Smokeless Tobacco Use (Adults) 45 to 64 Years             3.8\n",
       "                                    65 Years and Older         1.9\n",
       "                                    Age 20 and Older           4.3\n",
       "                                    Age 25 and Older           4.4\n",
       "                                    All Ages                   5.5\n",
       "\n",
       "[177 rows x 1 columns]"
      ]
     },
     "execution_count": 22,
     "metadata": {},
     "output_type": "execute_result"
    }
   ],
   "source": [
    "behavior_risk_tobacco_year_sorted_data.groupby(['YEAR', 'TopicDesc', 'Age'])[['Data_Value']].median()"
   ]
  },
  {
   "cell_type": "code",
   "execution_count": 23,
   "metadata": {},
   "outputs": [],
   "source": [
    "behavior_risk_tobacco_gender_data = behavior_risk_tobacco_data1[behavior_risk_tobacco_data1['Gender']!='Overall']\n",
    "behavior_risk_tobacco_gender_sorted_data = behavior_risk_tobacco_gender_data.sort_values(by=['YEAR'], ascending=True)"
   ]
  },
  {
   "cell_type": "code",
   "execution_count": 24,
   "metadata": {},
   "outputs": [],
   "source": [
    "behavior_risk_tobacco_gender_sorted_male= behavior_risk_tobacco_gender_sorted_data[behavior_risk_tobacco_gender_sorted_data['Gender']=='Male']\n",
    "behavior_risk_tobacco_gender_sorted_female= behavior_risk_tobacco_gender_sorted_data[behavior_risk_tobacco_gender_sorted_data['Gender']=='Female']"
   ]
  },
  {
   "cell_type": "code",
   "execution_count": 25,
   "metadata": {},
   "outputs": [],
   "source": [
    "year =['2011', '2012', '2013', '2014', '2015', '2016', '2017', '2018', '2019']\n",
    "\n",
    "behavior_risk_sorted_male = behavior_risk_tobacco_gender_sorted_male[['YEAR','Data_Value']]\n",
    "behavior_risk_sorted_female = behavior_risk_tobacco_gender_sorted_female[['YEAR','Data_Value']]"
   ]
  },
  {
   "cell_type": "code",
   "execution_count": 26,
   "metadata": {},
   "outputs": [],
   "source": [
    "def average(lst):\n",
    "    return sum(lst) / len(lst)"
   ]
  },
  {
   "cell_type": "code",
   "execution_count": 27,
   "metadata": {},
   "outputs": [],
   "source": [
    "tobacco_male_list =[]\n",
    "tobacco_female_list =[]\n",
    "for i in year:\n",
    "    tobacco_male_list.append(average(behavior_risk_sorted_male[behavior_risk_sorted_male['YEAR']==i]['Data_Value'].values))\n",
    "    tobacco_female_list.append(average(behavior_risk_sorted_female[behavior_risk_sorted_female['YEAR']==i]['Data_Value'].values))"
   ]
  },
  {
   "cell_type": "code",
   "execution_count": 28,
   "metadata": {},
   "outputs": [
    {
     "data": {
      "text/plain": [
       "<matplotlib.legend.Legend at 0x7f0b60dd2710>"
      ]
     },
     "execution_count": 28,
     "metadata": {},
     "output_type": "execute_result"
    },
    {
     "data": {
      "image/png": "[encoded data removed]",
      "text/plain": [
       "<Figure size 432x288 with 1 Axes>"
      ]
     },
     "metadata": {
      "needs_background": "light"
     },
     "output_type": "display_data"
    }
   ],
   "source": [
    "plt.plot(year, tobacco_male_list, 'c', label='Male')\n",
    "plt.plot(year, tobacco_female_list, 'y', label='Female')\n",
    "plt.legend()\n",
    "plt.title('Average tobacco Usage by Gender (2011~2019)')\n",
    "plt.legend(bbox_to_anchor =(1, 1))"
   ]
  },
  {
   "cell_type": "code",
   "execution_count": 29,
   "metadata": {},
   "outputs": [],
   "source": [
    "behavior_risk_tobacco_education_sorted_data = behavior_risk_tobacco_year_sorted_data[behavior_risk_tobacco_year_sorted_data['Education']!='All Grades']"
   ]
  },
  {
   "cell_type": "code",
   "execution_count": 30,
   "metadata": {},
   "outputs": [
    {
     "data": {
      "text/plain": [
       "<matplotlib.legend.Legend at 0x7f0b61d46198>"
      ]
     },
     "execution_count": 30,
     "metadata": {},
     "output_type": "execute_result"
    },
    {
     "data": {
      "image/png": "[encoded data removed]",
      "text/plain": [
       "<Figure size 936x720 with 1 Axes>"
      ]
     },
     "metadata": {
      "needs_background": "light"
     },
     "output_type": "display_data"
    }
   ],
   "source": [
    "plt.subplots(figsize=(13, 10))\n",
    "sns.boxenplot(x=\"YEAR\", y=\"Data_Value\",\n",
    "                     hue=\"Education\",\n",
    "                     data=behavior_risk_tobacco_education_sorted_data)\n",
    "plt.title('Tobacco usage by Education 2011~2019')\n",
    "plt.legend(bbox_to_anchor =(1, 1))"
   ]
  },
  {
   "cell_type": "code",
   "execution_count": 31,
   "metadata": {},
   "outputs": [
    {
     "data": {
      "text/plain": [
       "array(['< 12th Grade', '12th Grade', '> 12th Grade'], dtype=object)"
      ]
     },
     "execution_count": 31,
     "metadata": {},
     "output_type": "execute_result"
    }
   ],
   "source": [
    "behavior_risk_tobacco_education_sorted_data['Education'].unique()"
   ]
  },
  {
   "cell_type": "code",
   "execution_count": 32,
   "metadata": {},
   "outputs": [
    {
     "data": {
      "text/html": [
       "<div>\n",
       "<style scoped>\n",
       "    .dataframe tbody tr th:only-of-type {\n",
       "        vertical-align: middle;\n",
       "    }\n",
       "\n",
       "    .dataframe tbody tr th {\n",
       "        vertical-align: top;\n",
       "    }\n",
       "\n",
       "    .dataframe thead th {\n",
       "        text-align: right;\n",
       "    }\n",
       "</style>\n",
       "<table border=\"1\" class=\"dataframe\">\n",
       "  <thead>\n",
       "    <tr style=\"text-align: right;\">\n",
       "      <th></th>\n",
       "      <th>YEAR</th>\n",
       "      <th>&lt; 12th Grade</th>\n",
       "      <th>12th Grade</th>\n",
       "      <th>&gt; 12th Grade</th>\n",
       "    </tr>\n",
       "  </thead>\n",
       "  <tbody>\n",
       "    <tr>\n",
       "      <th>0</th>\n",
       "      <td>2011</td>\n",
       "      <td>13.65</td>\n",
       "      <td>13.80</td>\n",
       "      <td>8.00</td>\n",
       "    </tr>\n",
       "    <tr>\n",
       "      <th>1</th>\n",
       "      <td>2012</td>\n",
       "      <td>15.05</td>\n",
       "      <td>12.50</td>\n",
       "      <td>6.80</td>\n",
       "    </tr>\n",
       "    <tr>\n",
       "      <th>2</th>\n",
       "      <td>2013</td>\n",
       "      <td>14.10</td>\n",
       "      <td>11.70</td>\n",
       "      <td>6.80</td>\n",
       "    </tr>\n",
       "    <tr>\n",
       "      <th>3</th>\n",
       "      <td>2014</td>\n",
       "      <td>12.25</td>\n",
       "      <td>11.80</td>\n",
       "      <td>6.90</td>\n",
       "    </tr>\n",
       "    <tr>\n",
       "      <th>4</th>\n",
       "      <td>2015</td>\n",
       "      <td>13.40</td>\n",
       "      <td>11.50</td>\n",
       "      <td>7.20</td>\n",
       "    </tr>\n",
       "    <tr>\n",
       "      <th>5</th>\n",
       "      <td>2016</td>\n",
       "      <td>6.80</td>\n",
       "      <td>6.05</td>\n",
       "      <td>4.20</td>\n",
       "    </tr>\n",
       "    <tr>\n",
       "      <th>6</th>\n",
       "      <td>2017</td>\n",
       "      <td>6.75</td>\n",
       "      <td>6.35</td>\n",
       "      <td>4.20</td>\n",
       "    </tr>\n",
       "    <tr>\n",
       "      <th>7</th>\n",
       "      <td>2018</td>\n",
       "      <td>7.95</td>\n",
       "      <td>7.50</td>\n",
       "      <td>4.75</td>\n",
       "    </tr>\n",
       "    <tr>\n",
       "      <th>8</th>\n",
       "      <td>2019</td>\n",
       "      <td>13.85</td>\n",
       "      <td>10.70</td>\n",
       "      <td>5.90</td>\n",
       "    </tr>\n",
       "  </tbody>\n",
       "</table>\n",
       "</div>"
      ],
      "text/plain": [
       "   YEAR  < 12th Grade  12th Grade  > 12th Grade\n",
       "0  2011         13.65       13.80          8.00\n",
       "1  2012         15.05       12.50          6.80\n",
       "2  2013         14.10       11.70          6.80\n",
       "3  2014         12.25       11.80          6.90\n",
       "4  2015         13.40       11.50          7.20\n",
       "5  2016          6.80        6.05          4.20\n",
       "6  2017          6.75        6.35          4.20\n",
       "7  2018          7.95        7.50          4.75\n",
       "8  2019         13.85       10.70          5.90"
      ]
     },
     "execution_count": 32,
     "metadata": {},
     "output_type": "execute_result"
    }
   ],
   "source": [
    "medians_lower_12 = behavior_risk_tobacco_education_sorted_data[behavior_risk_tobacco_education_sorted_data['Education']=='< 12th Grade'].groupby(['YEAR'])['Data_Value'].median()\n",
    "medians_12 = behavior_risk_tobacco_education_sorted_data[behavior_risk_tobacco_education_sorted_data['Education']=='12th Grade'].groupby(['YEAR'])['Data_Value'].median()\n",
    "medians_higher_12 = behavior_risk_tobacco_education_sorted_data[behavior_risk_tobacco_education_sorted_data['Education']=='> 12th Grade'].groupby(['YEAR'])['Data_Value'].median()\n",
    "\n",
    "\n",
    "median_by_education= {'YEAR': medians_lower_12.keys(),\n",
    "                    '< 12th Grade': medians_lower_12.values,\n",
    "                    '12th Grade': medians_12.values,\n",
    "                    '> 12th Grade': medians_higher_12.values}\n",
    "median_by_education_df= pd.DataFrame(median_by_education)\n",
    "median_by_education_df"
   ]
  },
  {
   "cell_type": "code",
   "execution_count": 33,
   "metadata": {},
   "outputs": [],
   "source": [
    "behavior_risk_tobacco_ages_sorted_data = behavior_risk_tobacco_year_sorted_data[behavior_risk_tobacco_year_sorted_data['Age'].isin(['18 to 24 Years','25 to 44 Years',\n",
    "                                                                                                                                    '45 to 64 Years','65 Years and Older'])] "
   ]
  },
  {
   "cell_type": "code",
   "execution_count": 34,
   "metadata": {},
   "outputs": [],
   "source": [
    "ages_categories = ['18 to 24 Years','25 to 44 Years', '45 to 64 Years','65 Years and Older']\n",
    "behavior_risk_tobacco_ages_sorted_data['Age'] = pd.Categorical(behavior_risk_tobacco_ages_sorted_data['Age'], categories = ages_categories)"
   ]
  },
  {
   "cell_type": "code",
   "execution_count": 35,
   "metadata": {},
   "outputs": [
    {
     "data": {
      "text/plain": [
       "<matplotlib.legend.Legend at 0x7f0b60c67e80>"
      ]
     },
     "execution_count": 35,
     "metadata": {},
     "output_type": "execute_result"
    },
    {
     "data": {
      "image/png": "[encoded data removed]",
      "text/plain": [
       "<Figure size 936x720 with 1 Axes>"
      ]
     },
     "metadata": {
      "needs_background": "light"
     },
     "output_type": "display_data"
    }
   ],
   "source": [
    "plt.subplots(figsize=(13, 10))\n",
    "sns.boxenplot(x=\"YEAR\", y=\"Data_Value\",\n",
    "                     hue=\"Age\",\n",
    "                     data=behavior_risk_tobacco_ages_sorted_data)\n",
    "plt.title('Tobacco usage by Ages 2011~2019')\n",
    "plt.legend(bbox_to_anchor =(1, 1))"
   ]
  },
  {
   "cell_type": "code",
   "execution_count": 36,
   "metadata": {},
   "outputs": [
    {
     "data": {
      "text/html": [
       "<div>\n",
       "<style scoped>\n",
       "    .dataframe tbody tr th:only-of-type {\n",
       "        vertical-align: middle;\n",
       "    }\n",
       "\n",
       "    .dataframe tbody tr th {\n",
       "        vertical-align: top;\n",
       "    }\n",
       "\n",
       "    .dataframe thead th {\n",
       "        text-align: right;\n",
       "    }\n",
       "</style>\n",
       "<table border=\"1\" class=\"dataframe\">\n",
       "  <thead>\n",
       "    <tr style=\"text-align: right;\">\n",
       "      <th></th>\n",
       "      <th>YEAR</th>\n",
       "      <th>18 to 24 Years</th>\n",
       "      <th>25 to 44 Years</th>\n",
       "      <th>45 to 64 Years</th>\n",
       "      <th>65 Years and Older</th>\n",
       "    </tr>\n",
       "  </thead>\n",
       "  <tbody>\n",
       "    <tr>\n",
       "      <th>0</th>\n",
       "      <td>2011</td>\n",
       "      <td>13.10</td>\n",
       "      <td>13.60</td>\n",
       "      <td>10.15</td>\n",
       "      <td>4.85</td>\n",
       "    </tr>\n",
       "    <tr>\n",
       "      <th>1</th>\n",
       "      <td>2012</td>\n",
       "      <td>11.85</td>\n",
       "      <td>12.85</td>\n",
       "      <td>9.70</td>\n",
       "      <td>5.05</td>\n",
       "    </tr>\n",
       "    <tr>\n",
       "      <th>2</th>\n",
       "      <td>2013</td>\n",
       "      <td>12.75</td>\n",
       "      <td>11.90</td>\n",
       "      <td>9.95</td>\n",
       "      <td>4.75</td>\n",
       "    </tr>\n",
       "    <tr>\n",
       "      <th>3</th>\n",
       "      <td>2014</td>\n",
       "      <td>11.25</td>\n",
       "      <td>11.15</td>\n",
       "      <td>9.60</td>\n",
       "      <td>5.40</td>\n",
       "    </tr>\n",
       "    <tr>\n",
       "      <th>4</th>\n",
       "      <td>2015</td>\n",
       "      <td>10.65</td>\n",
       "      <td>12.50</td>\n",
       "      <td>9.10</td>\n",
       "      <td>5.20</td>\n",
       "    </tr>\n",
       "    <tr>\n",
       "      <th>5</th>\n",
       "      <td>2016</td>\n",
       "      <td>9.90</td>\n",
       "      <td>6.90</td>\n",
       "      <td>4.40</td>\n",
       "      <td>1.90</td>\n",
       "    </tr>\n",
       "    <tr>\n",
       "      <th>6</th>\n",
       "      <td>2017</td>\n",
       "      <td>10.40</td>\n",
       "      <td>7.10</td>\n",
       "      <td>4.30</td>\n",
       "      <td>2.30</td>\n",
       "    </tr>\n",
       "    <tr>\n",
       "      <th>7</th>\n",
       "      <td>2018</td>\n",
       "      <td>11.20</td>\n",
       "      <td>8.00</td>\n",
       "      <td>4.90</td>\n",
       "      <td>2.50</td>\n",
       "    </tr>\n",
       "    <tr>\n",
       "      <th>8</th>\n",
       "      <td>2019</td>\n",
       "      <td>7.50</td>\n",
       "      <td>11.20</td>\n",
       "      <td>8.50</td>\n",
       "      <td>4.35</td>\n",
       "    </tr>\n",
       "  </tbody>\n",
       "</table>\n",
       "</div>"
      ],
      "text/plain": [
       "   YEAR  18 to 24 Years  25 to 44 Years  45 to 64 Years  65 Years and Older\n",
       "0  2011           13.10           13.60           10.15                4.85\n",
       "1  2012           11.85           12.85            9.70                5.05\n",
       "2  2013           12.75           11.90            9.95                4.75\n",
       "3  2014           11.25           11.15            9.60                5.40\n",
       "4  2015           10.65           12.50            9.10                5.20\n",
       "5  2016            9.90            6.90            4.40                1.90\n",
       "6  2017           10.40            7.10            4.30                2.30\n",
       "7  2018           11.20            8.00            4.90                2.50\n",
       "8  2019            7.50           11.20            8.50                4.35"
      ]
     },
     "execution_count": 36,
     "metadata": {},
     "output_type": "execute_result"
    }
   ],
   "source": [
    "medians_18 = behavior_risk_tobacco_ages_sorted_data[behavior_risk_tobacco_ages_sorted_data['Age']=='18 to 24 Years'].groupby(['YEAR'])['Data_Value'].median()\n",
    "medians_25 = behavior_risk_tobacco_ages_sorted_data[behavior_risk_tobacco_ages_sorted_data['Age']=='25 to 44 Years'].groupby(['YEAR'])['Data_Value'].median()\n",
    "medians_45 = behavior_risk_tobacco_ages_sorted_data[behavior_risk_tobacco_ages_sorted_data['Age']=='45 to 64 Years'].groupby(['YEAR'])['Data_Value'].median()\n",
    "medians_65 = behavior_risk_tobacco_ages_sorted_data[behavior_risk_tobacco_ages_sorted_data['Age']=='65 Years and Older'].groupby(['YEAR'])['Data_Value'].median()\n",
    "\n",
    "\n",
    "median_by_ages = {'YEAR': medians_18.keys(),\n",
    "                    '18 to 24 Years': medians_18.values,\n",
    "                    '25 to 44 Years': medians_25.values,\n",
    "                    '45 to 64 Years': medians_45.values,\n",
    "                    '65 Years and Older': medians_65.values}\n",
    "median_by_ages_df= pd.DataFrame(median_by_ages)\n",
    "median_by_ages_df"
   ]
  },
  {
   "cell_type": "code",
   "execution_count": 37,
   "metadata": {
    "scrolled": false
   },
   "outputs": [
    {
     "data": {
      "text/plain": [
       "<matplotlib.legend.Legend at 0x7f0bc4119cc0>"
      ]
     },
     "execution_count": 37,
     "metadata": {},
     "output_type": "execute_result"
    },
    {
     "data": {
      "image/png": "[encoded data removed]",
      "text/plain": [
       "<Figure size 936x720 with 1 Axes>"
      ]
     },
     "metadata": {
      "needs_background": "light"
     },
     "output_type": "display_data"
    }
   ],
   "source": [
    "behavior_risk_tobacco_gender_sorted_data = behavior_risk_tobacco_year_sorted_data[behavior_risk_tobacco_year_sorted_data['Gender']!='Overall']\n",
    "\n",
    "plt.subplots(figsize=(13, 10))\n",
    "sns.boxenplot(x=\"YEAR\", y=\"Data_Value\",\n",
    "                     hue=\"Gender\",\n",
    "                     data=behavior_risk_tobacco_gender_sorted_data)\n",
    "\n",
    "plt.title('Tobacco usage by Education 2011~2019')\n",
    "plt.legend(bbox_to_anchor =(1, 1))"
   ]
  },
  {
   "cell_type": "code",
   "execution_count": 38,
   "metadata": {},
   "outputs": [
    {
     "data": {
      "text/html": [
       "<div>\n",
       "<style scoped>\n",
       "    .dataframe tbody tr th:only-of-type {\n",
       "        vertical-align: middle;\n",
       "    }\n",
       "\n",
       "    .dataframe tbody tr th {\n",
       "        vertical-align: top;\n",
       "    }\n",
       "\n",
       "    .dataframe thead th {\n",
       "        text-align: right;\n",
       "    }\n",
       "</style>\n",
       "<table border=\"1\" class=\"dataframe\">\n",
       "  <thead>\n",
       "    <tr style=\"text-align: right;\">\n",
       "      <th></th>\n",
       "      <th>YEAR</th>\n",
       "      <th>Male_Median</th>\n",
       "      <th>Female_Median</th>\n",
       "    </tr>\n",
       "  </thead>\n",
       "  <tbody>\n",
       "    <tr>\n",
       "      <th>0</th>\n",
       "      <td>2011</td>\n",
       "      <td>40.3</td>\n",
       "      <td>23.70</td>\n",
       "    </tr>\n",
       "    <tr>\n",
       "      <th>1</th>\n",
       "      <td>2012</td>\n",
       "      <td>39.4</td>\n",
       "      <td>21.90</td>\n",
       "    </tr>\n",
       "    <tr>\n",
       "      <th>2</th>\n",
       "      <td>2013</td>\n",
       "      <td>41.4</td>\n",
       "      <td>22.70</td>\n",
       "    </tr>\n",
       "    <tr>\n",
       "      <th>3</th>\n",
       "      <td>2014</td>\n",
       "      <td>40.6</td>\n",
       "      <td>22.30</td>\n",
       "    </tr>\n",
       "    <tr>\n",
       "      <th>4</th>\n",
       "      <td>2015</td>\n",
       "      <td>40.9</td>\n",
       "      <td>21.00</td>\n",
       "    </tr>\n",
       "    <tr>\n",
       "      <th>5</th>\n",
       "      <td>2016</td>\n",
       "      <td>35.3</td>\n",
       "      <td>18.15</td>\n",
       "    </tr>\n",
       "    <tr>\n",
       "      <th>6</th>\n",
       "      <td>2017</td>\n",
       "      <td>34.9</td>\n",
       "      <td>19.35</td>\n",
       "    </tr>\n",
       "    <tr>\n",
       "      <th>7</th>\n",
       "      <td>2018</td>\n",
       "      <td>37.3</td>\n",
       "      <td>19.00</td>\n",
       "    </tr>\n",
       "    <tr>\n",
       "      <th>8</th>\n",
       "      <td>2019</td>\n",
       "      <td>40.1</td>\n",
       "      <td>19.20</td>\n",
       "    </tr>\n",
       "  </tbody>\n",
       "</table>\n",
       "</div>"
      ],
      "text/plain": [
       "   YEAR  Male_Median  Female_Median\n",
       "0  2011         40.3          23.70\n",
       "1  2012         39.4          21.90\n",
       "2  2013         41.4          22.70\n",
       "3  2014         40.6          22.30\n",
       "4  2015         40.9          21.00\n",
       "5  2016         35.3          18.15\n",
       "6  2017         34.9          19.35\n",
       "7  2018         37.3          19.00\n",
       "8  2019         40.1          19.20"
      ]
     },
     "execution_count": 38,
     "metadata": {},
     "output_type": "execute_result"
    }
   ],
   "source": [
    "male_medians = behavior_risk_tobacco_gender_sorted_data[behavior_risk_tobacco_gender_sorted_data['Gender']=='Male'].groupby(['YEAR'])['Data_Value'].median()\n",
    "female_medians = behavior_risk_tobacco_gender_sorted_data[behavior_risk_tobacco_gender_sorted_data['Gender']=='Female'].groupby(['YEAR'])['Data_Value'].median()\n",
    "\n",
    "median_by_gender = {'YEAR': male_medians.keys(),\n",
    "                    'Male_Median': male_medians.values,\n",
    "                    'Female_Median': female_medians.values}\n",
    "median_by_gender_df= pd.DataFrame(median_by_gender)\n",
    "median_by_gender_df"
   ]
  },
  {
   "cell_type": "code",
   "execution_count": 39,
   "metadata": {},
   "outputs": [
    {
     "data": {
      "text/html": [
       "<div>\n",
       "<style scoped>\n",
       "    .dataframe tbody tr th:only-of-type {\n",
       "        vertical-align: middle;\n",
       "    }\n",
       "\n",
       "    .dataframe tbody tr th {\n",
       "        vertical-align: top;\n",
       "    }\n",
       "\n",
       "    .dataframe thead th {\n",
       "        text-align: right;\n",
       "    }\n",
       "</style>\n",
       "<table border=\"1\" class=\"dataframe\">\n",
       "  <thead>\n",
       "    <tr style=\"text-align: right;\">\n",
       "      <th></th>\n",
       "      <th>LocationAbbr</th>\n",
       "      <th>LocationDesc</th>\n",
       "      <th>TopicDesc</th>\n",
       "      <th>Data_Value</th>\n",
       "      <th>Sample_Size</th>\n",
       "    </tr>\n",
       "  </thead>\n",
       "  <tbody>\n",
       "    <tr>\n",
       "      <th>34761</th>\n",
       "      <td>AK</td>\n",
       "      <td>Alaska</td>\n",
       "      <td>Cigarette Use (Adults)</td>\n",
       "      <td>21.8</td>\n",
       "      <td>231.0</td>\n",
       "    </tr>\n",
       "    <tr>\n",
       "      <th>34636</th>\n",
       "      <td>AK</td>\n",
       "      <td>Alaska</td>\n",
       "      <td>Cigarette Use (Adults)</td>\n",
       "      <td>26.3</td>\n",
       "      <td>1073.0</td>\n",
       "    </tr>\n",
       "  </tbody>\n",
       "</table>\n",
       "</div>"
      ],
      "text/plain": [
       "      LocationAbbr LocationDesc               TopicDesc  Data_Value  \\\n",
       "34761           AK       Alaska  Cigarette Use (Adults)        21.8   \n",
       "34636           AK       Alaska  Cigarette Use (Adults)        26.3   \n",
       "\n",
       "       Sample_Size  \n",
       "34761        231.0  \n",
       "34636       1073.0  "
      ]
     },
     "execution_count": 39,
     "metadata": {},
     "output_type": "execute_result"
    }
   ],
   "source": [
    "behavior_risk_tobacco_ages_sorted_data[['LocationAbbr', 'LocationDesc','TopicDesc', 'Data_Value', 'Sample_Size']].sort_values(by=['TopicDesc', 'LocationAbbr'], ascending=True).head(2)"
   ]
  },
  {
   "cell_type": "code",
   "execution_count": 40,
   "metadata": {},
   "outputs": [],
   "source": [
    "behavior_risk_tobacco_geo = behavior_risk_tobacco_data2.copy()"
   ]
  },
  {
   "cell_type": "code",
   "execution_count": 41,
   "metadata": {},
   "outputs": [],
   "source": [
    "behavior_risk_tobacco_geo.dropna(subset=['GeoLocation'], inplace=True)\n",
    "behavior_risk_tobacco_geo.reset_index(drop=True, inplace=True)"
   ]
  },
  {
   "cell_type": "code",
   "execution_count": 42,
   "metadata": {},
   "outputs": [
    {
     "data": {
      "text/plain": [
       "0"
      ]
     },
     "execution_count": 42,
     "metadata": {},
     "output_type": "execute_result"
    }
   ],
   "source": [
    "behavior_risk_tobacco_geo['GeoLocation'].isnull().sum()"
   ]
  },
  {
   "cell_type": "code",
   "execution_count": 43,
   "metadata": {},
   "outputs": [],
   "source": [
    "import re\n",
    "Latitude_list =[]\n",
    "Longitude_list =[]\n",
    "for i in range(len(behavior_risk_tobacco_geo)):\n",
    "    s =behavior_risk_tobacco_geo['GeoLocation'][i]\n",
    "    Latitude_list.append(s[s.find(\"(\")+1:s.find(\",\")])\n",
    "    Longitude_list.append(s[s.find(\",\")+1:s.find(\")\")])"
   ]
  },
  {
   "cell_type": "code",
   "execution_count": 44,
   "metadata": {},
   "outputs": [],
   "source": [
    "behavior_risk_tobacco_geo['Latitude'] = Latitude_list\n",
    "behavior_risk_tobacco_geo['Longitude'] = Longitude_list"
   ]
  },
  {
   "cell_type": "code",
   "execution_count": 45,
   "metadata": {},
   "outputs": [
    {
     "data": {
      "text/html": [
       "<div>\n",
       "<style scoped>\n",
       "    .dataframe tbody tr th:only-of-type {\n",
       "        vertical-align: middle;\n",
       "    }\n",
       "\n",
       "    .dataframe tbody tr th {\n",
       "        vertical-align: top;\n",
       "    }\n",
       "\n",
       "    .dataframe thead th {\n",
       "        text-align: right;\n",
       "    }\n",
       "</style>\n",
       "<table border=\"1\" class=\"dataframe\">\n",
       "  <thead>\n",
       "    <tr style=\"text-align: right;\">\n",
       "      <th></th>\n",
       "      <th>YEAR</th>\n",
       "      <th>LocationAbbr</th>\n",
       "      <th>LocationDesc</th>\n",
       "      <th>Data_Value</th>\n",
       "      <th>Data_Value_Std_Err</th>\n",
       "      <th>Low_Confidence_Limit</th>\n",
       "      <th>High_Confidence_Limit</th>\n",
       "      <th>Sample_Size</th>\n",
       "      <th>GeoLocation</th>\n",
       "      <th>Latitude</th>\n",
       "      <th>Longitude</th>\n",
       "    </tr>\n",
       "  </thead>\n",
       "  <tbody>\n",
       "    <tr>\n",
       "      <th>0</th>\n",
       "      <td>2018</td>\n",
       "      <td>AK</td>\n",
       "      <td>Alaska</td>\n",
       "      <td>5.8</td>\n",
       "      <td>0.7</td>\n",
       "      <td>4.5</td>\n",
       "      <td>7.1</td>\n",
       "      <td>2711.0</td>\n",
       "      <td>(64.84507995700051, -147.72205903599973)</td>\n",
       "      <td>64.84507995700051</td>\n",
       "      <td>-147.72205903599973</td>\n",
       "    </tr>\n",
       "    <tr>\n",
       "      <th>1</th>\n",
       "      <td>2018</td>\n",
       "      <td>MD</td>\n",
       "      <td>Maryland</td>\n",
       "      <td>14.0</td>\n",
       "      <td>0.7</td>\n",
       "      <td>12.7</td>\n",
       "      <td>15.3</td>\n",
       "      <td>7171.0</td>\n",
       "      <td>(39.29058096400047, -76.60926011099963)</td>\n",
       "      <td>39.29058096400047</td>\n",
       "      <td>-76.60926011099963</td>\n",
       "    </tr>\n",
       "  </tbody>\n",
       "</table>\n",
       "</div>"
      ],
      "text/plain": [
       "   YEAR LocationAbbr LocationDesc  Data_Value  Data_Value_Std_Err  \\\n",
       "0  2018           AK       Alaska         5.8                 0.7   \n",
       "1  2018           MD     Maryland        14.0                 0.7   \n",
       "\n",
       "   Low_Confidence_Limit  High_Confidence_Limit  Sample_Size  \\\n",
       "0                   4.5                    7.1       2711.0   \n",
       "1                  12.7                   15.3       7171.0   \n",
       "\n",
       "                                GeoLocation           Latitude  \\\n",
       "0  (64.84507995700051, -147.72205903599973)  64.84507995700051   \n",
       "1   (39.29058096400047, -76.60926011099963)  39.29058096400047   \n",
       "\n",
       "              Longitude  \n",
       "0   -147.72205903599973  \n",
       "1    -76.60926011099963  "
      ]
     },
     "execution_count": 45,
     "metadata": {},
     "output_type": "execute_result"
    }
   ],
   "source": [
    "behavior_risk_tobacco_geo.head(2)"
   ]
  },
  {
   "cell_type": "code",
   "execution_count": 46,
   "metadata": {},
   "outputs": [],
   "source": [
    "behavior_risk_tobacco_geo['Latitude'] = behavior_risk_tobacco_geo['Latitude'].astype('float64') \n",
    "behavior_risk_tobacco_geo['Longitude'] = behavior_risk_tobacco_geo['Longitude'].astype('float64') "
   ]
  },
  {
   "cell_type": "code",
   "execution_count": 47,
   "metadata": {},
   "outputs": [],
   "source": [
    "behavior_risk_tobacco_geo1 = behavior_risk_tobacco_geo[behavior_risk_tobacco_geo['YEAR'].isin(['2011', '2012', '2013','2014', '2015',\n",
    "                                                                                                      '2016', '2017', '2018', '2019'])]"
   ]
  },
  {
   "cell_type": "code",
   "execution_count": 48,
   "metadata": {},
   "outputs": [
    {
     "data": {
      "text/html": [
       "<div>\n",
       "<style scoped>\n",
       "    .dataframe tbody tr th:only-of-type {\n",
       "        vertical-align: middle;\n",
       "    }\n",
       "\n",
       "    .dataframe tbody tr th {\n",
       "        vertical-align: top;\n",
       "    }\n",
       "\n",
       "    .dataframe thead th {\n",
       "        text-align: right;\n",
       "    }\n",
       "</style>\n",
       "<table border=\"1\" class=\"dataframe\">\n",
       "  <thead>\n",
       "    <tr style=\"text-align: right;\">\n",
       "      <th></th>\n",
       "      <th>LocationAbbr</th>\n",
       "      <th>LocationDesc</th>\n",
       "    </tr>\n",
       "    <tr>\n",
       "      <th>YEAR</th>\n",
       "      <th></th>\n",
       "      <th></th>\n",
       "    </tr>\n",
       "  </thead>\n",
       "  <tbody>\n",
       "    <tr>\n",
       "      <th>2011</th>\n",
       "      <td>DE</td>\n",
       "      <td>Delaware</td>\n",
       "    </tr>\n",
       "    <tr>\n",
       "      <th>2012</th>\n",
       "      <td>IA</td>\n",
       "      <td>Iowa</td>\n",
       "    </tr>\n",
       "    <tr>\n",
       "      <th>2013</th>\n",
       "      <td>MA</td>\n",
       "      <td>Massachusetts</td>\n",
       "    </tr>\n",
       "    <tr>\n",
       "      <th>2014</th>\n",
       "      <td>DE</td>\n",
       "      <td>Delaware</td>\n",
       "    </tr>\n",
       "    <tr>\n",
       "      <th>2015</th>\n",
       "      <td>IA</td>\n",
       "      <td>Iowa</td>\n",
       "    </tr>\n",
       "    <tr>\n",
       "      <th>2016</th>\n",
       "      <td>CA</td>\n",
       "      <td>California</td>\n",
       "    </tr>\n",
       "    <tr>\n",
       "      <th>2017</th>\n",
       "      <td>MD</td>\n",
       "      <td>Maryland</td>\n",
       "    </tr>\n",
       "    <tr>\n",
       "      <th>2018</th>\n",
       "      <td>CO</td>\n",
       "      <td>Colorado</td>\n",
       "    </tr>\n",
       "    <tr>\n",
       "      <th>2019</th>\n",
       "      <td>PR</td>\n",
       "      <td>Puerto Rico</td>\n",
       "    </tr>\n",
       "  </tbody>\n",
       "</table>\n",
       "</div>"
      ],
      "text/plain": [
       "     LocationAbbr   LocationDesc\n",
       "YEAR                            \n",
       "2011           DE       Delaware\n",
       "2012           IA           Iowa\n",
       "2013           MA  Massachusetts\n",
       "2014           DE       Delaware\n",
       "2015           IA           Iowa\n",
       "2016           CA     California\n",
       "2017           MD       Maryland\n",
       "2018           CO       Colorado\n",
       "2019           PR    Puerto Rico"
      ]
     },
     "execution_count": 48,
     "metadata": {},
     "output_type": "execute_result"
    }
   ],
   "source": [
    "behavior_risk_tobacco_geo_sorted = behavior_risk_tobacco_geo1.sort_values(by='Data_Value', ascending=False)\n",
    "behavior_risk_tobacco_geo_sorted.groupby(['YEAR']).first()[['LocationAbbr', 'LocationDesc']]"
   ]
  },
  {
   "cell_type": "code",
   "execution_count": 49,
   "metadata": {
    "scrolled": true
   },
   "outputs": [],
   "source": [
    "top_5_behavior_risk_tobacco= behavior_risk_tobacco_geo_sorted.groupby(['YEAR']).head(5).sort_values(by='YEAR', ascending=False)[['YEAR', 'LocationDesc', 'Data_Value']]"
   ]
  },
  {
   "cell_type": "code",
   "execution_count": 50,
   "metadata": {
    "scrolled": false
   },
   "outputs": [
    {
     "data": {
      "text/html": [
       "<div>\n",
       "<style scoped>\n",
       "    .dataframe tbody tr th:only-of-type {\n",
       "        vertical-align: middle;\n",
       "    }\n",
       "\n",
       "    .dataframe tbody tr th {\n",
       "        vertical-align: top;\n",
       "    }\n",
       "\n",
       "    .dataframe thead th {\n",
       "        text-align: right;\n",
       "    }\n",
       "</style>\n",
       "<table border=\"1\" class=\"dataframe\">\n",
       "  <thead>\n",
       "    <tr style=\"text-align: right;\">\n",
       "      <th></th>\n",
       "      <th>US State</th>\n",
       "      <th>Top 5 Years</th>\n",
       "    </tr>\n",
       "  </thead>\n",
       "  <tbody>\n",
       "    <tr>\n",
       "      <th>0</th>\n",
       "      <td>California</td>\n",
       "      <td>[2019, 2018, 2017, 2016, 2015, 2014, 2011]</td>\n",
       "    </tr>\n",
       "    <tr>\n",
       "      <th>2</th>\n",
       "      <td>Puerto Rico</td>\n",
       "      <td>[2019, 2019, 2018, 2018, 2013]</td>\n",
       "    </tr>\n",
       "    <tr>\n",
       "      <th>41</th>\n",
       "      <td>Iowa</td>\n",
       "      <td>[2016, 2015, 2012, 2011]</td>\n",
       "    </tr>\n",
       "    <tr>\n",
       "      <th>26</th>\n",
       "      <td>New Hampshire</td>\n",
       "      <td>[2018, 2017, 2015, 2014]</td>\n",
       "    </tr>\n",
       "    <tr>\n",
       "      <th>29</th>\n",
       "      <td>Maryland</td>\n",
       "      <td>[2017, 2016, 2014]</td>\n",
       "    </tr>\n",
       "    <tr>\n",
       "      <th>3</th>\n",
       "      <td>Vermont</td>\n",
       "      <td>[2019, 2013, 2012]</td>\n",
       "    </tr>\n",
       "    <tr>\n",
       "      <th>42</th>\n",
       "      <td>Maine</td>\n",
       "      <td>[2014, 2013, 2011]</td>\n",
       "    </tr>\n",
       "    <tr>\n",
       "      <th>44</th>\n",
       "      <td>Delaware</td>\n",
       "      <td>[2014, 2011]</td>\n",
       "    </tr>\n",
       "    <tr>\n",
       "      <th>18</th>\n",
       "      <td>Rhode Island</td>\n",
       "      <td>[2016, 2015]</td>\n",
       "    </tr>\n",
       "    <tr>\n",
       "      <th>15</th>\n",
       "      <td>Colorado</td>\n",
       "      <td>[2018, 2016]</td>\n",
       "    </tr>\n",
       "    <tr>\n",
       "      <th>34</th>\n",
       "      <td>Massachusetts</td>\n",
       "      <td>[2013, 2012]</td>\n",
       "    </tr>\n",
       "    <tr>\n",
       "      <th>37</th>\n",
       "      <td>West Virginia</td>\n",
       "      <td>[2012, 2011]</td>\n",
       "    </tr>\n",
       "    <tr>\n",
       "      <th>4</th>\n",
       "      <td>Washington</td>\n",
       "      <td>[2019]</td>\n",
       "    </tr>\n",
       "    <tr>\n",
       "      <th>20</th>\n",
       "      <td>Indiana</td>\n",
       "      <td>[2015]</td>\n",
       "    </tr>\n",
       "    <tr>\n",
       "      <th>11</th>\n",
       "      <td>North Dakota</td>\n",
       "      <td>[2017]</td>\n",
       "    </tr>\n",
       "    <tr>\n",
       "      <th>13</th>\n",
       "      <td>Oregon</td>\n",
       "      <td>[2017]</td>\n",
       "    </tr>\n",
       "    <tr>\n",
       "      <th>32</th>\n",
       "      <td>Idaho</td>\n",
       "      <td>[2013]</td>\n",
       "    </tr>\n",
       "    <tr>\n",
       "      <th>36</th>\n",
       "      <td>Illinois</td>\n",
       "      <td>[2012]</td>\n",
       "    </tr>\n",
       "  </tbody>\n",
       "</table>\n",
       "</div>"
      ],
      "text/plain": [
       "         US State                                 Top 5 Years\n",
       "0      California  [2019, 2018, 2017, 2016, 2015, 2014, 2011]\n",
       "2     Puerto Rico              [2019, 2019, 2018, 2018, 2013]\n",
       "41           Iowa                    [2016, 2015, 2012, 2011]\n",
       "26  New Hampshire                    [2018, 2017, 2015, 2014]\n",
       "29       Maryland                          [2017, 2016, 2014]\n",
       "3         Vermont                          [2019, 2013, 2012]\n",
       "42          Maine                          [2014, 2013, 2011]\n",
       "44       Delaware                                [2014, 2011]\n",
       "18   Rhode Island                                [2016, 2015]\n",
       "15       Colorado                                [2018, 2016]\n",
       "34  Massachusetts                                [2013, 2012]\n",
       "37  West Virginia                                [2012, 2011]\n",
       "4      Washington                                      [2019]\n",
       "20        Indiana                                      [2015]\n",
       "11   North Dakota                                      [2017]\n",
       "13         Oregon                                      [2017]\n",
       "32          Idaho                                      [2013]\n",
       "36       Illinois                                      [2012]"
      ]
     },
     "execution_count": 50,
     "metadata": {},
     "output_type": "execute_result"
    }
   ],
   "source": [
    "Location_desc = []\n",
    "for item in top_5_behavior_risk_tobacco['LocationDesc'].values:\n",
    "    Location_desc.append(top_5_behavior_risk_tobacco[top_5_behavior_risk_tobacco['LocationDesc']==item]['YEAR'].values)\n",
    "\n",
    "count_year =[]\n",
    "for i in range(len(Location_desc)):\n",
    "    count_year.append(len(Location_desc[i]))\n",
    "\n",
    "    \n",
    "top_5_LocationinUS = {'US State': top_5_behavior_risk_tobacco['LocationDesc'].values,\n",
    "                     'Top 5 Years': Location_desc,\n",
    "                      'Count Year': count_year}\n",
    "top_5_LocationinUS_df= pd.DataFrame(top_5_LocationinUS)\n",
    "top_5_LocationinUS_df = top_5_LocationinUS_df.sort_values(by='Count Year', ascending=False)\n",
    "top_5_LocationinUS_df_new = top_5_LocationinUS_df.drop_duplicates('US State')\n",
    "top_5_LocationinUS_df_new[['US State', 'Top 5 Years']]"
   ]
  },
  {
   "cell_type": "code",
   "execution_count": 51,
   "metadata": {},
   "outputs": [],
   "source": [
    "behavior_risk_tobacco_newdata =  behavior_risk_tobacco_data1.copy()"
   ]
  },
  {
   "cell_type": "code",
   "execution_count": 52,
   "metadata": {},
   "outputs": [],
   "source": [
    "behavior_risk_tobacco_newdata.drop(columns=['LocationDesc', 'DataSource', 'Response', 'TopicType',\n",
    "                                          'Data_Value_Footnote_Symbol', 'GeoLocation', 'Data_Value_Footnote',\n",
    "                                          'TopicTypeId', 'TopicId', 'MeasureId', 'StratificationID1',\n",
    "                                          'StratificationID2', 'StratificationID3', 'StratificationID4',\n",
    "                                          'SubMeasureID', 'DisplayOrder'], axis=1, inplace=True)"
   ]
  },
  {
   "cell_type": "code",
   "execution_count": 53,
   "metadata": {},
   "outputs": [
    {
     "data": {
      "text/html": [
       "<div>\n",
       "<style scoped>\n",
       "    .dataframe tbody tr th:only-of-type {\n",
       "        vertical-align: middle;\n",
       "    }\n",
       "\n",
       "    .dataframe tbody tr th {\n",
       "        vertical-align: top;\n",
       "    }\n",
       "\n",
       "    .dataframe thead th {\n",
       "        text-align: right;\n",
       "    }\n",
       "</style>\n",
       "<table border=\"1\" class=\"dataframe\">\n",
       "  <thead>\n",
       "    <tr style=\"text-align: right;\">\n",
       "      <th></th>\n",
       "      <th>YEAR</th>\n",
       "      <th>LocationAbbr</th>\n",
       "      <th>TopicDesc</th>\n",
       "      <th>MeasureDesc</th>\n",
       "      <th>Data_Value</th>\n",
       "      <th>Data_Value_Std_Err</th>\n",
       "      <th>Low_Confidence_Limit</th>\n",
       "      <th>High_Confidence_Limit</th>\n",
       "      <th>Sample_Size</th>\n",
       "      <th>Gender</th>\n",
       "      <th>Race</th>\n",
       "      <th>Age</th>\n",
       "      <th>Education</th>\n",
       "    </tr>\n",
       "  </thead>\n",
       "  <tbody>\n",
       "    <tr>\n",
       "      <th>0</th>\n",
       "      <td>2018</td>\n",
       "      <td>AK</td>\n",
       "      <td>Smokeless Tobacco Use (Adults)</td>\n",
       "      <td>Current Use</td>\n",
       "      <td>5.8</td>\n",
       "      <td>0.7</td>\n",
       "      <td>4.5</td>\n",
       "      <td>7.1</td>\n",
       "      <td>2711.0</td>\n",
       "      <td>Overall</td>\n",
       "      <td>All Races</td>\n",
       "      <td>All Ages</td>\n",
       "      <td>All Grades</td>\n",
       "    </tr>\n",
       "    <tr>\n",
       "      <th>1</th>\n",
       "      <td>2018</td>\n",
       "      <td>MD</td>\n",
       "      <td>Cigarette Use (Adults)</td>\n",
       "      <td>Current Smoking</td>\n",
       "      <td>14.0</td>\n",
       "      <td>0.7</td>\n",
       "      <td>12.7</td>\n",
       "      <td>15.3</td>\n",
       "      <td>7171.0</td>\n",
       "      <td>Male</td>\n",
       "      <td>All Races</td>\n",
       "      <td>All Ages</td>\n",
       "      <td>All Grades</td>\n",
       "    </tr>\n",
       "    <tr>\n",
       "      <th>2</th>\n",
       "      <td>2018</td>\n",
       "      <td>MO</td>\n",
       "      <td>E-Cigarette Use (Adults)</td>\n",
       "      <td>Current Use</td>\n",
       "      <td>6.0</td>\n",
       "      <td>0.6</td>\n",
       "      <td>4.8</td>\n",
       "      <td>7.2</td>\n",
       "      <td>4612.0</td>\n",
       "      <td>Overall</td>\n",
       "      <td>White</td>\n",
       "      <td>All Ages</td>\n",
       "      <td>All Grades</td>\n",
       "    </tr>\n",
       "  </tbody>\n",
       "</table>\n",
       "</div>"
      ],
      "text/plain": [
       "   YEAR LocationAbbr                       TopicDesc      MeasureDesc  \\\n",
       "0  2018           AK  Smokeless Tobacco Use (Adults)      Current Use   \n",
       "1  2018           MD          Cigarette Use (Adults)  Current Smoking   \n",
       "2  2018           MO        E-Cigarette Use (Adults)      Current Use   \n",
       "\n",
       "   Data_Value  Data_Value_Std_Err  Low_Confidence_Limit  \\\n",
       "0         5.8                 0.7                   4.5   \n",
       "1        14.0                 0.7                  12.7   \n",
       "2         6.0                 0.6                   4.8   \n",
       "\n",
       "   High_Confidence_Limit  Sample_Size   Gender       Race       Age  \\\n",
       "0                    7.1       2711.0  Overall  All Races  All Ages   \n",
       "1                   15.3       7171.0     Male  All Races  All Ages   \n",
       "2                    7.2       4612.0  Overall      White  All Ages   \n",
       "\n",
       "    Education  \n",
       "0  All Grades  \n",
       "1  All Grades  \n",
       "2  All Grades  "
      ]
     },
     "execution_count": 53,
     "metadata": {},
     "output_type": "execute_result"
    }
   ],
   "source": [
    "behavior_risk_tobacco_newdata.head(3)"
   ]
  },
  {
   "cell_type": "code",
   "execution_count": 54,
   "metadata": {},
   "outputs": [],
   "source": [
    "behavior_risk_tobacco_newdata['Data_Value_Std_Err'].fillna(behavior_risk_tobacco_newdata['Data_Value_Std_Err'].mode()[0], inplace=True)\n",
    "behavior_risk_tobacco_newdata['Low_Confidence_Limit'].fillna(behavior_risk_tobacco_newdata['Low_Confidence_Limit'].mode()[0], inplace=True)\n",
    "behavior_risk_tobacco_newdata['High_Confidence_Limit'].fillna(behavior_risk_tobacco_newdata['High_Confidence_Limit'].mode()[0], inplace=True)\n",
    "behavior_risk_tobacco_newdata['Sample_Size'].fillna(behavior_risk_tobacco_newdata['Sample_Size'].mode()[0], inplace=True)"
   ]
  },
  {
   "cell_type": "code",
   "execution_count": 55,
   "metadata": {},
   "outputs": [
    {
     "data": {
      "text/plain": [
       "YEAR                     0\n",
       "LocationAbbr             0\n",
       "TopicDesc                0\n",
       "MeasureDesc              0\n",
       "Data_Value               0\n",
       "Data_Value_Std_Err       0\n",
       "Low_Confidence_Limit     0\n",
       "High_Confidence_Limit    0\n",
       "Sample_Size              0\n",
       "Gender                   0\n",
       "Race                     0\n",
       "Age                      0\n",
       "Education                0\n",
       "dtype: int64"
      ]
     },
     "execution_count": 55,
     "metadata": {},
     "output_type": "execute_result"
    }
   ],
   "source": [
    "behavior_risk_tobacco_newdata.isnull().sum()"
   ]
  },
  {
   "cell_type": "code",
   "execution_count": 56,
   "metadata": {},
   "outputs": [
    {
     "data": {
      "text/html": [
       "<div>\n",
       "<style scoped>\n",
       "    .dataframe tbody tr th:only-of-type {\n",
       "        vertical-align: middle;\n",
       "    }\n",
       "\n",
       "    .dataframe tbody tr th {\n",
       "        vertical-align: top;\n",
       "    }\n",
       "\n",
       "    .dataframe thead th {\n",
       "        text-align: right;\n",
       "    }\n",
       "</style>\n",
       "<table border=\"1\" class=\"dataframe\">\n",
       "  <thead>\n",
       "    <tr style=\"text-align: right;\">\n",
       "      <th></th>\n",
       "      <th>YEAR</th>\n",
       "      <th>LocationAbbr</th>\n",
       "      <th>TopicDesc</th>\n",
       "      <th>MeasureDesc</th>\n",
       "      <th>Data_Value</th>\n",
       "      <th>Data_Value_Std_Err</th>\n",
       "      <th>Low_Confidence_Limit</th>\n",
       "      <th>High_Confidence_Limit</th>\n",
       "      <th>Sample_Size</th>\n",
       "      <th>Gender</th>\n",
       "      <th>Race</th>\n",
       "      <th>Age</th>\n",
       "      <th>Education</th>\n",
       "    </tr>\n",
       "  </thead>\n",
       "  <tbody>\n",
       "    <tr>\n",
       "      <th>0</th>\n",
       "      <td>2018</td>\n",
       "      <td>AK</td>\n",
       "      <td>Smokeless Tobacco Use (Adults)</td>\n",
       "      <td>Current Use</td>\n",
       "      <td>5.8</td>\n",
       "      <td>0.7</td>\n",
       "      <td>4.5</td>\n",
       "      <td>7.1</td>\n",
       "      <td>2711.0</td>\n",
       "      <td>Overall</td>\n",
       "      <td>All Races</td>\n",
       "      <td>All Ages</td>\n",
       "      <td>All Grades</td>\n",
       "    </tr>\n",
       "  </tbody>\n",
       "</table>\n",
       "</div>"
      ],
      "text/plain": [
       "   YEAR LocationAbbr                       TopicDesc  MeasureDesc  Data_Value  \\\n",
       "0  2018           AK  Smokeless Tobacco Use (Adults)  Current Use         5.8   \n",
       "\n",
       "   Data_Value_Std_Err  Low_Confidence_Limit  High_Confidence_Limit  \\\n",
       "0                 0.7                   4.5                    7.1   \n",
       "\n",
       "   Sample_Size   Gender       Race       Age   Education  \n",
       "0       2711.0  Overall  All Races  All Ages  All Grades  "
      ]
     },
     "execution_count": 56,
     "metadata": {},
     "output_type": "execute_result"
    }
   ],
   "source": [
    "behavior_risk_tobacco_newdata.head(1)"
   ]
  },
  {
   "cell_type": "code",
   "execution_count": 57,
   "metadata": {},
   "outputs": [],
   "source": [
    "from sklearn.preprocessing import LabelEncoder\n",
    "\n",
    "#https://stephenallwright.com/label-encode-multiple-columns-dataframe/\n",
    "def label_encode_columns(df, columns):\n",
    "    encoders = {}\n",
    "    for col in columns:\n",
    "        le = LabelEncoder().fit(df[col])\n",
    "        df[col] = le.transform(df[col])\n",
    "        encoders[col] = le\n",
    "    return df, encoders\n",
    "\n",
    "encode_columns = ['YEAR', 'LocationAbbr', 'TopicDesc', 'MeasureDesc', 'Gender', 'Race', 'Age', 'Education']\n",
    "behavior_risk_tobacco_newdata, encoders = label_encode_columns(df=behavior_risk_tobacco_newdata, columns=encode_columns)"
   ]
  },
  {
   "cell_type": "code",
   "execution_count": 58,
   "metadata": {},
   "outputs": [
    {
     "data": {
      "text/html": [
       "<div>\n",
       "<style scoped>\n",
       "    .dataframe tbody tr th:only-of-type {\n",
       "        vertical-align: middle;\n",
       "    }\n",
       "\n",
       "    .dataframe tbody tr th {\n",
       "        vertical-align: top;\n",
       "    }\n",
       "\n",
       "    .dataframe thead th {\n",
       "        text-align: right;\n",
       "    }\n",
       "</style>\n",
       "<table border=\"1\" class=\"dataframe\">\n",
       "  <thead>\n",
       "    <tr style=\"text-align: right;\">\n",
       "      <th></th>\n",
       "      <th>YEAR</th>\n",
       "      <th>LocationAbbr</th>\n",
       "      <th>TopicDesc</th>\n",
       "      <th>MeasureDesc</th>\n",
       "      <th>Data_Value</th>\n",
       "      <th>Data_Value_Std_Err</th>\n",
       "      <th>Low_Confidence_Limit</th>\n",
       "      <th>High_Confidence_Limit</th>\n",
       "      <th>Sample_Size</th>\n",
       "      <th>Gender</th>\n",
       "      <th>Race</th>\n",
       "      <th>Age</th>\n",
       "      <th>Education</th>\n",
       "    </tr>\n",
       "  </thead>\n",
       "  <tbody>\n",
       "    <tr>\n",
       "      <th>0</th>\n",
       "      <td>14</td>\n",
       "      <td>0</td>\n",
       "      <td>3</td>\n",
       "      <td>2</td>\n",
       "      <td>5.8</td>\n",
       "      <td>0.7</td>\n",
       "      <td>4.5</td>\n",
       "      <td>7.1</td>\n",
       "      <td>2711.0</td>\n",
       "      <td>2</td>\n",
       "      <td>1</td>\n",
       "      <td>7</td>\n",
       "      <td>3</td>\n",
       "    </tr>\n",
       "    <tr>\n",
       "      <th>1</th>\n",
       "      <td>14</td>\n",
       "      <td>21</td>\n",
       "      <td>1</td>\n",
       "      <td>0</td>\n",
       "      <td>14.0</td>\n",
       "      <td>0.7</td>\n",
       "      <td>12.7</td>\n",
       "      <td>15.3</td>\n",
       "      <td>7171.0</td>\n",
       "      <td>1</td>\n",
       "      <td>1</td>\n",
       "      <td>7</td>\n",
       "      <td>3</td>\n",
       "    </tr>\n",
       "    <tr>\n",
       "      <th>2</th>\n",
       "      <td>14</td>\n",
       "      <td>25</td>\n",
       "      <td>2</td>\n",
       "      <td>2</td>\n",
       "      <td>6.0</td>\n",
       "      <td>0.6</td>\n",
       "      <td>4.8</td>\n",
       "      <td>7.2</td>\n",
       "      <td>4612.0</td>\n",
       "      <td>2</td>\n",
       "      <td>5</td>\n",
       "      <td>7</td>\n",
       "      <td>3</td>\n",
       "    </tr>\n",
       "    <tr>\n",
       "      <th>3</th>\n",
       "      <td>14</td>\n",
       "      <td>27</td>\n",
       "      <td>2</td>\n",
       "      <td>2</td>\n",
       "      <td>6.6</td>\n",
       "      <td>3.5</td>\n",
       "      <td>0.0</td>\n",
       "      <td>13.5</td>\n",
       "      <td>106.0</td>\n",
       "      <td>2</td>\n",
       "      <td>4</td>\n",
       "      <td>7</td>\n",
       "      <td>3</td>\n",
       "    </tr>\n",
       "    <tr>\n",
       "      <th>4</th>\n",
       "      <td>14</td>\n",
       "      <td>27</td>\n",
       "      <td>3</td>\n",
       "      <td>2</td>\n",
       "      <td>6.4</td>\n",
       "      <td>0.5</td>\n",
       "      <td>5.4</td>\n",
       "      <td>7.4</td>\n",
       "      <td>4160.0</td>\n",
       "      <td>2</td>\n",
       "      <td>5</td>\n",
       "      <td>7</td>\n",
       "      <td>3</td>\n",
       "    </tr>\n",
       "  </tbody>\n",
       "</table>\n",
       "</div>"
      ],
      "text/plain": [
       "   YEAR  LocationAbbr  TopicDesc  MeasureDesc  Data_Value  Data_Value_Std_Err  \\\n",
       "0    14             0          3            2         5.8                 0.7   \n",
       "1    14            21          1            0        14.0                 0.7   \n",
       "2    14            25          2            2         6.0                 0.6   \n",
       "3    14            27          2            2         6.6                 3.5   \n",
       "4    14            27          3            2         6.4                 0.5   \n",
       "\n",
       "   Low_Confidence_Limit  High_Confidence_Limit  Sample_Size  Gender  Race  \\\n",
       "0                   4.5                    7.1       2711.0       2     1   \n",
       "1                  12.7                   15.3       7171.0       1     1   \n",
       "2                   4.8                    7.2       4612.0       2     5   \n",
       "3                   0.0                   13.5        106.0       2     4   \n",
       "4                   5.4                    7.4       4160.0       2     5   \n",
       "\n",
       "   Age  Education  \n",
       "0    7          3  \n",
       "1    7          3  \n",
       "2    7          3  \n",
       "3    7          3  \n",
       "4    7          3  "
      ]
     },
     "execution_count": 58,
     "metadata": {},
     "output_type": "execute_result"
    }
   ],
   "source": [
    "behavior_risk_tobacco_newdata.head()"
   ]
  },
  {
   "cell_type": "code",
   "execution_count": 59,
   "metadata": {},
   "outputs": [
    {
     "data": {
      "image/png": "[encoded data removed]",
      "text/plain": [
       "<Figure size 720x576 with 2 Axes>"
      ]
     },
     "metadata": {
      "needs_background": "light"
     },
     "output_type": "display_data"
    }
   ],
   "source": [
    "plt.figure(figsize = (10,8))\n",
    "plt.title('Behavior Risk correplation plot')\n",
    "corr = behavior_risk_tobacco_newdata.corr()\n",
    "sns.heatmap(corr,xticklabels=corr.columns,yticklabels=corr.columns,linewidths=.1,cmap=\"Blues\")\n",
    "plt.show()"
   ]
  },
  {
   "cell_type": "code",
   "execution_count": 62,
   "metadata": {},
   "outputs": [
    {
     "data": {
      "text/plain": [
       "Index(['YEAR', 'LocationAbbr', 'TopicDesc', 'MeasureDesc', 'Data_Value',\n",
       "       'Data_Value_Std_Err', 'Low_Confidence_Limit', 'High_Confidence_Limit',\n",
       "       'Sample_Size', 'Gender', 'Race', 'Age', 'Education'],\n",
       "      dtype='object')"
      ]
     },
     "execution_count": 62,
     "metadata": {},
     "output_type": "execute_result"
    }
   ],
   "source": [
    "behavior_risk_tobacco_newdata.columns"
   ]
  },
  {
   "cell_type": "code",
   "execution_count": 70,
   "metadata": {},
   "outputs": [
    {
     "data": {
      "text/plain": [
       "YEAR                       int64\n",
       "LocationAbbr               int64\n",
       "TopicDesc                  int64\n",
       "MeasureDesc                int64\n",
       "Data_Value               float64\n",
       "Data_Value_Std_Err       float64\n",
       "Low_Confidence_Limit     float64\n",
       "High_Confidence_Limit    float64\n",
       "Sample_Size              float64\n",
       "Gender                     int64\n",
       "Race                       int64\n",
       "Age                        int64\n",
       "Education                  int64\n",
       "dtype: object"
      ]
     },
     "execution_count": 70,
     "metadata": {},
     "output_type": "execute_result"
    }
   ],
   "source": [
    "behavior_risk_tobacco_newdata.dtypes"
   ]
  },
  {
   "cell_type": "code",
   "execution_count": 74,
   "metadata": {},
   "outputs": [],
   "source": [
    "from sklearn.model_selection import train_test_split\n",
    "\n",
    "X = behavior_risk_tobacco_newdata[['LocationAbbr', 'TopicDesc', 'MeasureDesc',\n",
    "                                   'Data_Value_Std_Err', 'Low_Confidence_Limit', 'High_Confidence_Limit',\n",
    "                                    'Gender', 'Race', 'Age', 'Education']]\n",
    "y = behavior_risk_tobacco_newdata['Data_Value']\n",
    "\n",
    "X_train, X_test, y_train, y_test = train_test_split(X,y, test_size=0.3, random_state=100)"
   ]
  },
  {
   "cell_type": "code",
   "execution_count": 79,
   "metadata": {},
   "outputs": [],
   "source": [
    "from sklearn.neighbors import KNeighborsRegressor\n",
    "score = []\n",
    "for k in range(1,20): \n",
    "    clf = KNeighborsRegressor(n_neighbors = k,  weights = 'distance', p=1)\n",
    "    clf.fit(X_train, y_train)\n",
    "    score.append(clf.score(X_test, y_test ))    "
   ]
  },
  {
   "cell_type": "code",
   "execution_count": 91,
   "metadata": {},
   "outputs": [
    {
     "data": {
      "image/png": "[encoded data removed]",
      "text/plain": [
       "<Figure size 432x288 with 1 Axes>"
      ]
     },
     "metadata": {
      "needs_background": "light"
     },
     "output_type": "display_data"
    }
   ],
   "source": [
    "fig, ax = plt.subplots()\n",
    "ax.plot(np.arange(1,len(score)+1), score)\n",
    "plt.title('K-Nearest Neighbor Score')\n",
    "plt.ylabel('Score')\n",
    "plt.xlabel('K value')\n",
    "plt.show()"
   ]
  },
  {
   "cell_type": "code",
   "execution_count": 92,
   "metadata": {},
   "outputs": [
    {
     "name": "stdout",
     "output_type": "stream",
     "text": [
      "At K = 7, Max Accuracy = 99.78556613290685\n"
     ]
    }
   ],
   "source": [
    "k_max = score.index(max(score))+1\n",
    "print( \"At K = {}, Max Accuracy = {}\".format(k_max, max(score)*100))"
   ]
  },
  {
   "cell_type": "code",
   "execution_count": 93,
   "metadata": {},
   "outputs": [
    {
     "name": "stdout",
     "output_type": "stream",
     "text": [
      "0.9978556613290684\n"
     ]
    }
   ],
   "source": [
    "clf = KNeighborsRegressor(n_neighbors = k_max,  weights = 'distance', p=1)\n",
    "clf.fit(X_train, y_train)\n",
    "print(clf.score(X_test, y_test ))   \n",
    "y_pred = clf.predict(X_test)"
   ]
  },
  {
   "cell_type": "code",
   "execution_count": 139,
   "metadata": {},
   "outputs": [
    {
     "data": {
      "image/png": "[encoded data removed]",
      "text/plain": [
       "<Figure size 432x288 with 1 Axes>"
      ]
     },
     "metadata": {
      "needs_background": "light"
     },
     "output_type": "display_data"
    }
   ],
   "source": [
    "residuals =y_test.values.flatten() - y_pred\n",
    "\n",
    "fig, ax = plt.subplots()\n",
    "ax.scatter(y_test.values.flatten(), residuals)\n",
    "ax.axhline(lw=2,color='black')\n",
    "ax.set_xlabel('Observed')\n",
    "ax.set_ylabel('Residual')\n",
    "plt.show()"
   ]
  }
 ],
 "metadata": {
  "kernelspec": {
   "display_name": "Python 3",
   "language": "python",
   "name": "python3"
  },
  "language_info": {
   "codemirror_mode": {
    "name": "ipython",
    "version": 3
   },
   "file_extension": ".py",
   "mimetype": "text/x-python",
   "name": "python",
   "nbconvert_exporter": "python",
   "pygments_lexer": "ipython3",
   "version": "3.6.8"
  }
 },
 "nbformat": 4,
 "nbformat_minor": 4
}
