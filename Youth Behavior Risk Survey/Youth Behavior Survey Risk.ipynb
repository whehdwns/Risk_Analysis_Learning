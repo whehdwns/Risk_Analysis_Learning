{
 "cells": [
  {
   "cell_type": "markdown",
   "metadata": {},
   "source": [
    "## About Dataset from [NYC Open Data](https://data.cityofnewyork.us/Health/Youth-Behavior-Risk-Survey-High-School-/3qty-g4aq).\n",
    "Dataset: Youth_Behavior_Risk_Survey__High_School_.csv\n",
    "- Survery\n",
    " - Title of survey\n",
    "- Prevalence\n",
    "- Year\n",
    " - Year of the Survey\n",
    "- Smoked at least once past 30 days\n",
    " - Percentage of students smoked cigarettes at least once in the past 30 days\n",
    "- Binge drinking Ɨ in past 30 days\n",
    " - Percentage of students who currently were binge drinking (had four or more drinks of alcohol in a row for female students or five or more drinks of alcohol in a row for male students) in past 30 days \n",
    "- Drank five or more alcoholic drinks in a row in past 30 days\n",
    " - Percentage of students who had five or more drinks of alcohol in past 30 days \n",
    "- Got help from a counselor in past 12 months\n",
    " - Percentage of students who got help from a professional counselor, social worker, or therapist for an emotional personal problem in the past 12 months"
   ]
  },
  {
   "cell_type": "code",
   "execution_count": 1,
   "metadata": {},
   "outputs": [],
   "source": [
    "import pandas as pd\n",
    "import numpy as np\n",
    "import matplotlib.pyplot as plt\n",
    "import seaborn as sns\n",
    "import matplotlib as mpl\n",
    "import warnings\n",
    "warnings.filterwarnings('ignore')"
   ]
  },
  {
   "cell_type": "code",
   "execution_count": 2,
   "metadata": {},
   "outputs": [],
   "source": [
    "youth_behavior_data_original = pd.read_csv('Youth_Behavior_Risk_Survey__High_School_.csv')\n",
    "youth_behavior_data = youth_behavior_data_original.copy()"
   ]
  },
  {
   "cell_type": "code",
   "execution_count": 3,
   "metadata": {},
   "outputs": [
    {
     "data": {
      "text/html": [
       "<div>\n",
       "<style scoped>\n",
       "    .dataframe tbody tr th:only-of-type {\n",
       "        vertical-align: middle;\n",
       "    }\n",
       "\n",
       "    .dataframe tbody tr th {\n",
       "        vertical-align: top;\n",
       "    }\n",
       "\n",
       "    .dataframe thead th {\n",
       "        text-align: right;\n",
       "    }\n",
       "</style>\n",
       "<table border=\"1\" class=\"dataframe\">\n",
       "  <thead>\n",
       "    <tr style=\"text-align: right;\">\n",
       "      <th></th>\n",
       "      <th>Survey</th>\n",
       "      <th>Prevalence</th>\n",
       "      <th>Year</th>\n",
       "      <th>Smoked at least once past 30 days</th>\n",
       "      <th>Binge drinking Ɨ in past 30 days</th>\n",
       "      <th>Drank five or more alcoholic drinks in a row in past 30 days</th>\n",
       "      <th>Got help from a counselor in past 12 months</th>\n",
       "      <th>Drinks 1 or more sodas per day in past 7 days</th>\n",
       "      <th>Adolescent obesity</th>\n",
       "      <th>Physically active 60 minutes per day</th>\n",
       "    </tr>\n",
       "  </thead>\n",
       "  <tbody>\n",
       "    <tr>\n",
       "      <th>0</th>\n",
       "      <td>YBRS</td>\n",
       "      <td>Prevalence 2019</td>\n",
       "      <td>2019</td>\n",
       "      <td>3.3</td>\n",
       "      <td>8.9</td>\n",
       "      <td>NaN</td>\n",
       "      <td>NaN</td>\n",
       "      <td>12.4</td>\n",
       "      <td>13.8</td>\n",
       "      <td>14.5</td>\n",
       "    </tr>\n",
       "    <tr>\n",
       "      <th>1</th>\n",
       "      <td>YBRS</td>\n",
       "      <td>Lower 95% CI 2019</td>\n",
       "      <td>2019</td>\n",
       "      <td>2.7</td>\n",
       "      <td>7.8</td>\n",
       "      <td>NaN</td>\n",
       "      <td>NaN</td>\n",
       "      <td>11.2</td>\n",
       "      <td>12.7</td>\n",
       "      <td>13.0</td>\n",
       "    </tr>\n",
       "    <tr>\n",
       "      <th>2</th>\n",
       "      <td>YBRS</td>\n",
       "      <td>Upper 95% CI 2019</td>\n",
       "      <td>2019</td>\n",
       "      <td>4.0</td>\n",
       "      <td>10.1</td>\n",
       "      <td>NaN</td>\n",
       "      <td>NaN</td>\n",
       "      <td>13.7</td>\n",
       "      <td>15.1</td>\n",
       "      <td>16.2</td>\n",
       "    </tr>\n",
       "    <tr>\n",
       "      <th>3</th>\n",
       "      <td>YBRS</td>\n",
       "      <td>Prevalence 2017</td>\n",
       "      <td>2017</td>\n",
       "      <td>5.0</td>\n",
       "      <td>5.0</td>\n",
       "      <td>NaN</td>\n",
       "      <td>18.0</td>\n",
       "      <td>14.9</td>\n",
       "      <td>13.5</td>\n",
       "      <td>20.8</td>\n",
       "    </tr>\n",
       "    <tr>\n",
       "      <th>4</th>\n",
       "      <td>YBRS</td>\n",
       "      <td>Lower 95% CI 2017</td>\n",
       "      <td>2017</td>\n",
       "      <td>4.1</td>\n",
       "      <td>4.2</td>\n",
       "      <td>NaN</td>\n",
       "      <td>16.8</td>\n",
       "      <td>13.7</td>\n",
       "      <td>12.4</td>\n",
       "      <td>19.3</td>\n",
       "    </tr>\n",
       "  </tbody>\n",
       "</table>\n",
       "</div>"
      ],
      "text/plain": [
       "  Survey         Prevalence  Year  Smoked at least once past 30 days  \\\n",
       "0   YBRS    Prevalence 2019  2019                                3.3   \n",
       "1   YBRS  Lower 95% CI 2019  2019                                2.7   \n",
       "2   YBRS  Upper 95% CI 2019  2019                                4.0   \n",
       "3   YBRS    Prevalence 2017  2017                                5.0   \n",
       "4   YBRS  Lower 95% CI 2017  2017                                4.1   \n",
       "\n",
       "   Binge drinking Ɨ in past 30 days   \\\n",
       "0                                8.9   \n",
       "1                                7.8   \n",
       "2                               10.1   \n",
       "3                                5.0   \n",
       "4                                4.2   \n",
       "\n",
       "   Drank five or more alcoholic drinks in a row in past 30 days  \\\n",
       "0                                                NaN              \n",
       "1                                                NaN              \n",
       "2                                                NaN              \n",
       "3                                                NaN              \n",
       "4                                                NaN              \n",
       "\n",
       "   Got help from a counselor in past 12 months  \\\n",
       "0                                          NaN   \n",
       "1                                          NaN   \n",
       "2                                          NaN   \n",
       "3                                         18.0   \n",
       "4                                         16.8   \n",
       "\n",
       "   Drinks 1 or more sodas per day in past 7 days  Adolescent obesity  \\\n",
       "0                                           12.4                13.8   \n",
       "1                                           11.2                12.7   \n",
       "2                                           13.7                15.1   \n",
       "3                                           14.9                13.5   \n",
       "4                                           13.7                12.4   \n",
       "\n",
       "   Physically active 60 minutes per day  \n",
       "0                                  14.5  \n",
       "1                                  13.0  \n",
       "2                                  16.2  \n",
       "3                                  20.8  \n",
       "4                                  19.3  "
      ]
     },
     "execution_count": 3,
     "metadata": {},
     "output_type": "execute_result"
    }
   ],
   "source": [
    "youth_behavior_data.head()"
   ]
  },
  {
   "cell_type": "code",
   "execution_count": 4,
   "metadata": {},
   "outputs": [
    {
     "data": {
      "text/plain": [
       "Index(['Survey', 'Prevalence', 'Year', 'Smoked at least once past 30 days',\n",
       "       'Binge drinking Ɨ in past 30 days ',\n",
       "       'Drank five or more alcoholic drinks in a row in past 30 days',\n",
       "       'Got help from a counselor in past 12 months',\n",
       "       'Drinks 1 or more sodas per day in past 7 days', 'Adolescent obesity',\n",
       "       'Physically active 60 minutes per day'],\n",
       "      dtype='object')"
      ]
     },
     "execution_count": 4,
     "metadata": {},
     "output_type": "execute_result"
    }
   ],
   "source": [
    "youth_behavior_data.columns"
   ]
  },
  {
   "cell_type": "code",
   "execution_count": 5,
   "metadata": {},
   "outputs": [],
   "source": [
    "youth_behavior_data.rename(columns={'Smoked at least once past 30 days': 'Smoking',\n",
    "                                    'Binge drinking Ɨ in past 30 days ': 'Bingeing',\n",
    "                                    'Drank five or more alcoholic drinks in a row in past 30 days': 'Drinking(alcholic)',\n",
    "                                    'Got help from a counselor in past 12 months': 'Meeting(Counselor)',\n",
    "                                    'Drinks 1 or more sodas per day in past 7 days': 'Drinking(soda)',\n",
    "                                    'Adolescent obesity': 'obesity',\n",
    "                                    'Physically active 60 minutes per day': 'Activity'},\n",
    "                           inplace=True)"
   ]
  },
  {
   "cell_type": "code",
   "execution_count": 6,
   "metadata": {},
   "outputs": [
    {
     "data": {
      "text/plain": [
       "Survey                0\n",
       "Prevalence            0\n",
       "Year                  0\n",
       "Smoking               0\n",
       "Bingeing              9\n",
       "Drinking(alcholic)    6\n",
       "Meeting(Counselor)    6\n",
       "Drinking(soda)        0\n",
       "obesity               0\n",
       "Activity              0\n",
       "dtype: int64"
      ]
     },
     "execution_count": 6,
     "metadata": {},
     "output_type": "execute_result"
    }
   ],
   "source": [
    "youth_behavior_data.isnull().sum()"
   ]
  },
  {
   "cell_type": "code",
   "execution_count": 7,
   "metadata": {},
   "outputs": [],
   "source": [
    "def print_unique(df):\n",
    "    print(df.name, ':', df.unique())"
   ]
  },
  {
   "cell_type": "code",
   "execution_count": 8,
   "metadata": {},
   "outputs": [
    {
     "name": "stdout",
     "output_type": "stream",
     "text": [
      "Survey : ['YBRS']\n",
      "Prevalence : ['Prevalence 2019' 'Lower 95% CI 2019' 'Upper 95% CI 2019'\n",
      " 'Prevalence 2017' 'Lower 95% CI 2017' 'Upper 95% CI 2017'\n",
      " 'Prevalence 2015' 'Lower 95% CI 2015' 'Upper 95% CI 2015'\n",
      " 'Prevalence 2013' 'Lower 95% CI 2013' 'Upper 95% CI 2013'\n",
      " 'Prevalence 2011' 'Lower 95% CI 2011' 'Upper 95% CI 2011']\n",
      "Year : [2019 2017 2015 2013 2011]\n",
      "Smoking : [3.3 2.7 4.  5.  4.1 6.1 5.8 4.7 7.  8.2 6.9 9.7 8.5 7.5 9.6]\n",
      "Bingeing : [ 8.9  7.8 10.1  5.   4.2  5.9  nan]\n",
      "Drinking(alcholic) : [ nan  8.5  7.3  9.9 10.8  9.8 11.8 12.7 11.7 13.9]\n",
      "Meeting(Counselor) : [ nan 18.  16.8 19.1 18.3 16.9 19.7 17.9 16.5 19.4]\n",
      "Drinking(soda) : [12.4 11.2 13.7 14.9 16.3 15.8 14.1 17.7 15.7 14.6 16.9 20.9 19.  23.1]\n",
      "obesity : [13.8 12.7 15.1 13.5 12.4 14.6 11.3 13.7 11.8 10.6 13.2 11.6 12.8]\n",
      "Activity : [14.5 13.  16.2 20.8 19.3 22.4 20.9 19.4 22.5 18.7 17.1 20.5 20.3 19.1\n",
      " 21.6]\n"
     ]
    }
   ],
   "source": [
    "for i in range(len(youth_behavior_data.columns)):\n",
    "    print_unique(youth_behavior_data[youth_behavior_data.columns[i]])"
   ]
  },
  {
   "cell_type": "code",
   "execution_count": 9,
   "metadata": {},
   "outputs": [],
   "source": [
    "youth_behavior_data['Bingeing'].fillna(youth_behavior_data['Bingeing'].mode()[0], inplace=True)\n",
    "youth_behavior_data['Drinking(alcholic)'].fillna(youth_behavior_data['Drinking(alcholic)'].mode()[0], inplace=True)\n",
    "youth_behavior_data['Meeting(Counselor)'].fillna(youth_behavior_data['Meeting(Counselor)'].mode()[0], inplace=True)"
   ]
  },
  {
   "cell_type": "code",
   "execution_count": 10,
   "metadata": {},
   "outputs": [
    {
     "data": {
      "text/plain": [
       "Survey                0\n",
       "Prevalence            0\n",
       "Year                  0\n",
       "Smoking               0\n",
       "Bingeing              0\n",
       "Drinking(alcholic)    0\n",
       "Meeting(Counselor)    0\n",
       "Drinking(soda)        0\n",
       "obesity               0\n",
       "Activity              0\n",
       "dtype: int64"
      ]
     },
     "execution_count": 10,
     "metadata": {},
     "output_type": "execute_result"
    }
   ],
   "source": [
    "youth_behavior_data.isnull().sum()"
   ]
  },
  {
   "cell_type": "code",
   "execution_count": 11,
   "metadata": {},
   "outputs": [
    {
     "data": {
      "text/html": [
       "<div>\n",
       "<style scoped>\n",
       "    .dataframe tbody tr th:only-of-type {\n",
       "        vertical-align: middle;\n",
       "    }\n",
       "\n",
       "    .dataframe tbody tr th {\n",
       "        vertical-align: top;\n",
       "    }\n",
       "\n",
       "    .dataframe thead th {\n",
       "        text-align: right;\n",
       "    }\n",
       "</style>\n",
       "<table border=\"1\" class=\"dataframe\">\n",
       "  <thead>\n",
       "    <tr style=\"text-align: right;\">\n",
       "      <th></th>\n",
       "      <th>Survey</th>\n",
       "      <th>Prevalence</th>\n",
       "      <th>Year</th>\n",
       "      <th>Smoking</th>\n",
       "      <th>Bingeing</th>\n",
       "      <th>Drinking(alcholic)</th>\n",
       "      <th>Meeting(Counselor)</th>\n",
       "      <th>Drinking(soda)</th>\n",
       "      <th>obesity</th>\n",
       "      <th>Activity</th>\n",
       "    </tr>\n",
       "  </thead>\n",
       "  <tbody>\n",
       "    <tr>\n",
       "      <th>0</th>\n",
       "      <td>YBRS</td>\n",
       "      <td>Prevalence 2019</td>\n",
       "      <td>2019</td>\n",
       "      <td>3.3</td>\n",
       "      <td>8.9</td>\n",
       "      <td>7.3</td>\n",
       "      <td>16.5</td>\n",
       "      <td>12.4</td>\n",
       "      <td>13.8</td>\n",
       "      <td>14.5</td>\n",
       "    </tr>\n",
       "    <tr>\n",
       "      <th>1</th>\n",
       "      <td>YBRS</td>\n",
       "      <td>Lower 95% CI 2019</td>\n",
       "      <td>2019</td>\n",
       "      <td>2.7</td>\n",
       "      <td>7.8</td>\n",
       "      <td>7.3</td>\n",
       "      <td>16.5</td>\n",
       "      <td>11.2</td>\n",
       "      <td>12.7</td>\n",
       "      <td>13.0</td>\n",
       "    </tr>\n",
       "    <tr>\n",
       "      <th>2</th>\n",
       "      <td>YBRS</td>\n",
       "      <td>Upper 95% CI 2019</td>\n",
       "      <td>2019</td>\n",
       "      <td>4.0</td>\n",
       "      <td>10.1</td>\n",
       "      <td>7.3</td>\n",
       "      <td>16.5</td>\n",
       "      <td>13.7</td>\n",
       "      <td>15.1</td>\n",
       "      <td>16.2</td>\n",
       "    </tr>\n",
       "    <tr>\n",
       "      <th>3</th>\n",
       "      <td>YBRS</td>\n",
       "      <td>Prevalence 2017</td>\n",
       "      <td>2017</td>\n",
       "      <td>5.0</td>\n",
       "      <td>5.0</td>\n",
       "      <td>7.3</td>\n",
       "      <td>18.0</td>\n",
       "      <td>14.9</td>\n",
       "      <td>13.5</td>\n",
       "      <td>20.8</td>\n",
       "    </tr>\n",
       "  </tbody>\n",
       "</table>\n",
       "</div>"
      ],
      "text/plain": [
       "  Survey         Prevalence  Year  Smoking  Bingeing  Drinking(alcholic)  \\\n",
       "0   YBRS    Prevalence 2019  2019      3.3       8.9                 7.3   \n",
       "1   YBRS  Lower 95% CI 2019  2019      2.7       7.8                 7.3   \n",
       "2   YBRS  Upper 95% CI 2019  2019      4.0      10.1                 7.3   \n",
       "3   YBRS    Prevalence 2017  2017      5.0       5.0                 7.3   \n",
       "\n",
       "   Meeting(Counselor)  Drinking(soda)  obesity  Activity  \n",
       "0                16.5            12.4     13.8      14.5  \n",
       "1                16.5            11.2     12.7      13.0  \n",
       "2                16.5            13.7     15.1      16.2  \n",
       "3                18.0            14.9     13.5      20.8  "
      ]
     },
     "execution_count": 11,
     "metadata": {},
     "output_type": "execute_result"
    }
   ],
   "source": [
    "youth_behavior_data.head(4)"
   ]
  },
  {
   "cell_type": "code",
   "execution_count": 12,
   "metadata": {},
   "outputs": [
    {
     "data": {
      "text/plain": [
       "(15, 10)"
      ]
     },
     "execution_count": 12,
     "metadata": {},
     "output_type": "execute_result"
    }
   ],
   "source": [
    "youth_behavior_data.shape"
   ]
  },
  {
   "cell_type": "code",
   "execution_count": 13,
   "metadata": {},
   "outputs": [],
   "source": [
    "youth_behavior_Prevalence_data  = youth_behavior_data[0:15:3]\n",
    "youth_behavior_Lower_data  = youth_behavior_data[1:15:3]\n",
    "youth_behavior_Upper_data  = youth_behavior_data[2:15:3]"
   ]
  },
  {
   "cell_type": "code",
   "execution_count": 14,
   "metadata": {},
   "outputs": [
    {
     "data": {
      "text/html": [
       "<div>\n",
       "<style scoped>\n",
       "    .dataframe tbody tr th:only-of-type {\n",
       "        vertical-align: middle;\n",
       "    }\n",
       "\n",
       "    .dataframe tbody tr th {\n",
       "        vertical-align: top;\n",
       "    }\n",
       "\n",
       "    .dataframe thead th {\n",
       "        text-align: right;\n",
       "    }\n",
       "</style>\n",
       "<table border=\"1\" class=\"dataframe\">\n",
       "  <thead>\n",
       "    <tr style=\"text-align: right;\">\n",
       "      <th></th>\n",
       "      <th>Survey</th>\n",
       "      <th>Prevalence</th>\n",
       "      <th>Year</th>\n",
       "      <th>Smoking</th>\n",
       "      <th>Bingeing</th>\n",
       "      <th>Drinking(alcholic)</th>\n",
       "      <th>Meeting(Counselor)</th>\n",
       "      <th>Drinking(soda)</th>\n",
       "      <th>obesity</th>\n",
       "      <th>Activity</th>\n",
       "    </tr>\n",
       "  </thead>\n",
       "  <tbody>\n",
       "    <tr>\n",
       "      <th>0</th>\n",
       "      <td>YBRS</td>\n",
       "      <td>Prevalence 2019</td>\n",
       "      <td>2019</td>\n",
       "      <td>3.3</td>\n",
       "      <td>8.9</td>\n",
       "      <td>7.3</td>\n",
       "      <td>16.5</td>\n",
       "      <td>12.4</td>\n",
       "      <td>13.8</td>\n",
       "      <td>14.5</td>\n",
       "    </tr>\n",
       "    <tr>\n",
       "      <th>3</th>\n",
       "      <td>YBRS</td>\n",
       "      <td>Prevalence 2017</td>\n",
       "      <td>2017</td>\n",
       "      <td>5.0</td>\n",
       "      <td>5.0</td>\n",
       "      <td>7.3</td>\n",
       "      <td>18.0</td>\n",
       "      <td>14.9</td>\n",
       "      <td>13.5</td>\n",
       "      <td>20.8</td>\n",
       "    </tr>\n",
       "    <tr>\n",
       "      <th>6</th>\n",
       "      <td>YBRS</td>\n",
       "      <td>Prevalence 2015</td>\n",
       "      <td>2015</td>\n",
       "      <td>5.8</td>\n",
       "      <td>4.2</td>\n",
       "      <td>8.5</td>\n",
       "      <td>18.3</td>\n",
       "      <td>15.8</td>\n",
       "      <td>12.4</td>\n",
       "      <td>20.9</td>\n",
       "    </tr>\n",
       "    <tr>\n",
       "      <th>9</th>\n",
       "      <td>YBRS</td>\n",
       "      <td>Prevalence 2013</td>\n",
       "      <td>2013</td>\n",
       "      <td>8.2</td>\n",
       "      <td>4.2</td>\n",
       "      <td>10.8</td>\n",
       "      <td>17.9</td>\n",
       "      <td>15.7</td>\n",
       "      <td>11.8</td>\n",
       "      <td>18.7</td>\n",
       "    </tr>\n",
       "    <tr>\n",
       "      <th>12</th>\n",
       "      <td>YBRS</td>\n",
       "      <td>Prevalence 2011</td>\n",
       "      <td>2011</td>\n",
       "      <td>8.5</td>\n",
       "      <td>4.2</td>\n",
       "      <td>12.7</td>\n",
       "      <td>16.5</td>\n",
       "      <td>20.9</td>\n",
       "      <td>11.6</td>\n",
       "      <td>20.3</td>\n",
       "    </tr>\n",
       "  </tbody>\n",
       "</table>\n",
       "</div>"
      ],
      "text/plain": [
       "   Survey       Prevalence  Year  Smoking  Bingeing  Drinking(alcholic)  \\\n",
       "0    YBRS  Prevalence 2019  2019      3.3       8.9                 7.3   \n",
       "3    YBRS  Prevalence 2017  2017      5.0       5.0                 7.3   \n",
       "6    YBRS  Prevalence 2015  2015      5.8       4.2                 8.5   \n",
       "9    YBRS  Prevalence 2013  2013      8.2       4.2                10.8   \n",
       "12   YBRS  Prevalence 2011  2011      8.5       4.2                12.7   \n",
       "\n",
       "    Meeting(Counselor)  Drinking(soda)  obesity  Activity  \n",
       "0                 16.5            12.4     13.8      14.5  \n",
       "3                 18.0            14.9     13.5      20.8  \n",
       "6                 18.3            15.8     12.4      20.9  \n",
       "9                 17.9            15.7     11.8      18.7  \n",
       "12                16.5            20.9     11.6      20.3  "
      ]
     },
     "execution_count": 14,
     "metadata": {},
     "output_type": "execute_result"
    }
   ],
   "source": [
    "youth_behavior_Prevalence_data"
   ]
  },
  {
   "cell_type": "code",
   "execution_count": 15,
   "metadata": {
    "scrolled": false
   },
   "outputs": [
    {
     "data": {
      "text/plain": [
       "<matplotlib.legend.Legend at 0x7f41df58eef0>"
      ]
     },
     "execution_count": 15,
     "metadata": {},
     "output_type": "execute_result"
    },
    {
     "data": {
      "image/png": "[encoded data removed]",
      "text/plain": [
       "<Figure size 1368x576 with 3 Axes>"
      ]
     },
     "metadata": {
      "needs_background": "light"
     },
     "output_type": "display_data"
    }
   ],
   "source": [
    "fig, axs = plt.subplots(1,3, figsize=(19, 8))\n",
    "\n",
    "cols = ['Smoking', 'Bingeing', 'Drinking(alcholic)', 'Meeting(Counselor)','Drinking(soda)', 'obesity', 'Activity']\n",
    "dataframe_list = [youth_behavior_Prevalence_data, youth_behavior_Lower_data, youth_behavior_Upper_data]\n",
    "dataframe_list_name = ['Prevalence', 'Lower 95% CI', 'Upper 95% CI']\n",
    "\n",
    "for i in range(len(cols)):\n",
    "    sns.lineplot(data=dataframe_list[0], x= 'Year', y=cols[i], ax = axs[0]).set(title=dataframe_list_name[0])\n",
    "axs[0].set_ylabel('Percent')\n",
    "for i in range(len(cols)):\n",
    "    sns.lineplot(data=dataframe_list[1], x= 'Year', y=cols[i], ax = axs[1]).set(title=dataframe_list_name[1])\n",
    "axs[1].set_ylabel('Percent')\n",
    "for i in range(len(cols)):\n",
    "    sns.lineplot(data=dataframe_list[2], x= 'Year', y=cols[i],  label=str(cols[i]), ax = axs[2]).set(title=dataframe_list_name[2])\n",
    "axs[2].set_ylabel('Percent')\n",
    "plt.legend(bbox_to_anchor=(1.05, 0.5, 0.45, 0.1),loc='lower right', mode=\"expand\")"
   ]
  },
  {
   "cell_type": "markdown",
   "metadata": {},
   "source": [
    "## Dataset from [data.world](https://data.world/city-of-ny/3qty-g4aq).\n",
    "Dataset: youth-behavior-risk-survey-1.csv"
   ]
  },
  {
   "cell_type": "code",
   "execution_count": 16,
   "metadata": {},
   "outputs": [],
   "source": [
    "youth_behavior_survey_data_original = pd.read_csv('youth-behavior-risk-survey-1.csv')\n",
    "youth_behavior_survey_data = youth_behavior_survey_data_original.copy()"
   ]
  },
  {
   "cell_type": "code",
   "execution_count": 17,
   "metadata": {},
   "outputs": [
    {
     "data": {
      "text/html": [
       "<div>\n",
       "<style scoped>\n",
       "    .dataframe tbody tr th:only-of-type {\n",
       "        vertical-align: middle;\n",
       "    }\n",
       "\n",
       "    .dataframe tbody tr th {\n",
       "        vertical-align: top;\n",
       "    }\n",
       "\n",
       "    .dataframe thead th {\n",
       "        text-align: right;\n",
       "    }\n",
       "</style>\n",
       "<table border=\"1\" class=\"dataframe\">\n",
       "  <thead>\n",
       "    <tr style=\"text-align: right;\">\n",
       "      <th></th>\n",
       "      <th>Survey</th>\n",
       "      <th>Question</th>\n",
       "      <th>Year</th>\n",
       "      <th>Prevalence</th>\n",
       "      <th>Lower95%CI</th>\n",
       "      <th>Upper95%CI</th>\n",
       "    </tr>\n",
       "  </thead>\n",
       "  <tbody>\n",
       "    <tr>\n",
       "      <th>0</th>\n",
       "      <td>YRBS</td>\n",
       "      <td>Adolescent obesity</td>\n",
       "      <td>2011</td>\n",
       "      <td>11.6</td>\n",
       "      <td>10.6</td>\n",
       "      <td>12.8</td>\n",
       "    </tr>\n",
       "    <tr>\n",
       "      <th>1</th>\n",
       "      <td>YRBS</td>\n",
       "      <td>Physically active 60 minutes per day</td>\n",
       "      <td>2011</td>\n",
       "      <td>20.3</td>\n",
       "      <td>19.1</td>\n",
       "      <td>21.6</td>\n",
       "    </tr>\n",
       "  </tbody>\n",
       "</table>\n",
       "</div>"
      ],
      "text/plain": [
       "  Survey                              Question  Year  Prevalence  Lower95%CI  \\\n",
       "0   YRBS                    Adolescent obesity  2011        11.6        10.6   \n",
       "1   YRBS  Physically active 60 minutes per day  2011        20.3        19.1   \n",
       "\n",
       "   Upper95%CI  \n",
       "0        12.8  \n",
       "1        21.6  "
      ]
     },
     "execution_count": 17,
     "metadata": {},
     "output_type": "execute_result"
    }
   ],
   "source": [
    "youth_behavior_survey_data.head(2)"
   ]
  },
  {
   "cell_type": "code",
   "execution_count": 18,
   "metadata": {},
   "outputs": [
    {
     "data": {
      "text/plain": [
       "Survey        0\n",
       "Question      0\n",
       "Year          0\n",
       "Prevalence    2\n",
       "Lower95%CI    2\n",
       "Upper95%CI    2\n",
       "dtype: int64"
      ]
     },
     "execution_count": 18,
     "metadata": {},
     "output_type": "execute_result"
    }
   ],
   "source": [
    "youth_behavior_survey_data.isnull().sum()"
   ]
  },
  {
   "cell_type": "code",
   "execution_count": 19,
   "metadata": {},
   "outputs": [],
   "source": [
    "youth_behavior_survey_data['Prevalence'].fillna(youth_behavior_survey_data['Prevalence'].mode()[0], inplace=True)\n",
    "youth_behavior_survey_data['Lower95%CI'].fillna(youth_behavior_survey_data['Lower95%CI'].mode()[0], inplace=True)\n",
    "youth_behavior_survey_data['Upper95%CI'].fillna(youth_behavior_survey_data['Upper95%CI'].mode()[0], inplace=True)"
   ]
  },
  {
   "cell_type": "code",
   "execution_count": 20,
   "metadata": {},
   "outputs": [
    {
     "data": {
      "text/plain": [
       "Survey        0\n",
       "Question      0\n",
       "Year          0\n",
       "Prevalence    0\n",
       "Lower95%CI    0\n",
       "Upper95%CI    0\n",
       "dtype: int64"
      ]
     },
     "execution_count": 20,
     "metadata": {},
     "output_type": "execute_result"
    }
   ],
   "source": [
    "youth_behavior_survey_data.isnull().sum()"
   ]
  },
  {
   "cell_type": "code",
   "execution_count": 21,
   "metadata": {},
   "outputs": [],
   "source": [
    "youth_behavior_survey_data_new = youth_behavior_survey_data.drop_duplicates(subset=youth_behavior_survey_data.columns, keep='first')"
   ]
  },
  {
   "cell_type": "code",
   "execution_count": 22,
   "metadata": {},
   "outputs": [],
   "source": [
    "youth_behavior_survey_data_sorted_year = youth_behavior_survey_data_new.sort_values(by=['Question'])"
   ]
  },
  {
   "cell_type": "code",
   "execution_count": 23,
   "metadata": {},
   "outputs": [],
   "source": [
    "youth_behavior_survey_data_sorted_year = youth_behavior_survey_data_sorted_year.reset_index(drop=True)"
   ]
  },
  {
   "cell_type": "code",
   "execution_count": 24,
   "metadata": {},
   "outputs": [],
   "source": [
    "def subtract_year(df):\n",
    "    diff = df['Prevalence'].values[0] - df['Prevalence'].values[1]\n",
    "    if diff < 0:\n",
    "        return 'Increasing'\n",
    "    if diff > 0:\n",
    "        return 'Decreasing'\n",
    "    if diff == 0:\n",
    "        return 'Stay same'"
   ]
  },
  {
   "cell_type": "code",
   "execution_count": 25,
   "metadata": {},
   "outputs": [
    {
     "name": "stdout",
     "output_type": "stream",
     "text": [
      "Behavior Risk (Adolescent obesity) is Increasing from 2011 to 2013\n",
      "Behavior Risk (Drank five or more alcoholic drinks in a row in past 30 days) is Decreasing from 2011 to 2013\n",
      "Behavior Risk (Drinks 1 or more sodas per day in past 7 days) is Decreasing from 2011 to 2013\n",
      "Behavior Risk (Got help from a counselor in past 12 months) is Increasing from 2011 to 2013\n",
      "Behavior Risk (Physically active 60 minutes per day) is Decreasing from 2011 to 2013\n",
      "Behavior Risk (Smoked at least once past 30 days) is Decreasing from 2011 to 2013\n"
     ]
    }
   ],
   "source": [
    "for i in range(len(youth_behavior_survey_data_sorted_year['Question'].unique())):\n",
    "    start = i*2\n",
    "    end = (i+1)*2\n",
    "    Result  = 'Behavior Risk ('+youth_behavior_survey_data_sorted_year['Question'].unique()[i]+ ') is ' +subtract_year(youth_behavior_survey_data_sorted_year[start:end]) +' from 2011 to 2013'\n",
    "    print(Result)"
   ]
  },
  {
   "cell_type": "markdown",
   "metadata": {},
   "source": [
    "## Conclusion\n",
    "- 2011 - 2019\n",
    "  - Positive Behavior\n",
    "      - Physically active 60 minutes per day\n",
    "        - Decreasing from 2011 - 2019\n",
    "        - it's rapidly decreasing since 2017\n",
    "      - Meeting with Counselor\n",
    "        - Increasing from 2011 to 2015, but decreasing from 2015 to 2019\n",
    "  - Negative Behavior\n",
    "      - Increasing from 2011 -2019\n",
    "        - Adolescent obesity\n",
    "        - Binge drinking Ɨ in past 30 days\n",
    "            - it's rapidly Increasing since 2017\n",
    "      - Decreasing from 2011 - 2019\n",
    "        - Smoked at least once past 30 days\n",
    "        - Drank five or more alcoholic drinks in a row in past 30 days\n",
    "        - Drinks 1 or more sodas per day in past 7 days"
   ]
  }
 ],
 "metadata": {
  "kernelspec": {
   "display_name": "Python 3",
   "language": "python",
   "name": "python3"
  },
  "language_info": {
   "codemirror_mode": {
    "name": "ipython",
    "version": 3
   },
   "file_extension": ".py",
   "mimetype": "text/x-python",
   "name": "python",
   "nbconvert_exporter": "python",
   "pygments_lexer": "ipython3",
   "version": "3.6.8"
  }
 },
 "nbformat": 4,
 "nbformat_minor": 4
}
